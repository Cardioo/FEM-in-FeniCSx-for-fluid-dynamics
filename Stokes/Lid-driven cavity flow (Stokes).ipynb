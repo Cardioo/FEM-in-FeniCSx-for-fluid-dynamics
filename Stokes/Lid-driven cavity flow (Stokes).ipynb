{
 "cells": [
  {
   "cell_type": "markdown",
   "id": "4b2e4ede-926e-4ff6-bb3f-7d1557842f2b",
   "metadata": {},
   "source": [
    "Resolveremos la ecuación de Stokes 2D para un lid-driven cavity flow, que nos establece ciertas condiciones de borde. \n",
    "\n",
    "$$-\\mu \\nabla^2 u + \\nabla p = f$$\n",
    "$$ \\nabla \\cdot u = 0$$\n",
    "\n",
    "Condiciones de borde (Dirichlet)\n",
    "$$ u = (1,0) \\quad \\text{en} \\ \\partial \\Omega_0$$ \n",
    "$$ u = (0,0) \\quad \\text{en} \\ \\partial \\Omega_1$$ \n",
    "\n",
    "Con $\\partial \\Omega_1 = ([0, 1]\\times 0) \\cup (0 \\times [0, 1]) \\cup (1 \\times [0,1]) $\n",
    "\n",
    "Y\n",
    "$\\partial \\Omega_0 = [0,1]\\times 1$"
   ]
  },
  {
   "cell_type": "markdown",
   "id": "a2014dcf-57cc-42a9-8ddc-e30e05fd5cb5",
   "metadata": {},
   "source": [
    "# **Implementación**"
   ]
  },
  {
   "cell_type": "markdown",
   "id": "43871b75-4fc8-4012-8121-edf71a80c157",
   "metadata": {},
   "source": [
    "## *Librerías*"
   ]
  },
  {
   "cell_type": "markdown",
   "id": "7e911215-536a-480a-a49d-3c1217b4186f",
   "metadata": {},
   "source": [
    "Lo primero que hacemos es importar \"MPI\". [MPI](https://en.wikipedia.org/wiki/Message_Passing_Interface) o Message Passing Interface es un estándar que define la sintaxis y semánticas de distintas librerias. Está diseñada para funcionar en arquitecturas de computación paralela"
   ]
  },
  {
   "cell_type": "code",
   "execution_count": 1,
   "id": "13c6ab7a-d03a-4f89-bf0e-248d522993ae",
   "metadata": {},
   "outputs": [],
   "source": [
    "from mpi4py import MPI # Message Passing Interface.\n",
    "# Is an standar for different libraries to function properly and with high performance"
   ]
  },
  {
   "cell_type": "markdown",
   "id": "a113d2b1-605d-4e09-9995-201a8cf96e1e",
   "metadata": {},
   "source": [
    "Luego, importamos PETSc y dolfinx. [PETSc](https://petsc.org/release/) es una librería potente usada para computación científica, en particular, resolver problemas lineares grandes asociados a ecuaciones diferenciales parciales. Por otro lado, [dolfinx](https://fenicsproject.org/) es la interfaz que usa FeniCSx, una librería de código abierto especializada para la resolución de ecuaciones diferenciales parciales bajo el método de elementos finitos (FEM)."
   ]
  },
  {
   "cell_type": "code",
   "execution_count": 2,
   "id": "9b392ed5-07e7-4f6d-9137-f67b461f7fa6",
   "metadata": {},
   "outputs": [],
   "source": [
    "from petsc4py import PETSc # Library for solving PDE's assosiated linear problems\n",
    "import dolfinx # FeniCSx Interface"
   ]
  },
  {
   "cell_type": "code",
   "execution_count": 3,
   "id": "10bfe219-b773-4a0b-9f42-20dccb9f9da6",
   "metadata": {},
   "outputs": [],
   "source": [
    "import numpy as np # Numpy, the classic"
   ]
  },
  {
   "cell_type": "markdown",
   "id": "561a0427-cd26-4dbe-b233-249ee08ee0fb",
   "metadata": {},
   "source": [
    "Ahora en la siguiente matraca, se importan escencialmente todas las funciones que estaremos utilizando para plantear el problema de stokes"
   ]
  },
  {
   "cell_type": "code",
   "execution_count": 4,
   "id": "4241da53-c9b3-4dd3-8f5c-0ddf57709e6c",
   "metadata": {},
   "outputs": [],
   "source": [
    "import numpy as np # Numpy, the classic\n",
    "\n",
    "import ufl\n",
    "from basix.ufl import element, mixed_element # Elements for the FEM\n",
    "from dolfinx import default_real_type, fem, la # FEM library with the functions required for solving through FEM (for real values)\n",
    "from dolfinx.fem import (\n",
    "    Constant,\n",
    "    Function,\n",
    "    dirichletbc,\n",
    "    extract_function_spaces,\n",
    "    form,\n",
    "    functionspace,\n",
    "    locate_dofs_topological,\n",
    "    create_interpolation_data,\n",
    "    assemble_scalar,\n",
    "    Expression\n",
    ") # Functions for defining variational problems and defining mathematical functions and constants\n",
    "from dolfinx.fem.petsc import assemble_matrix, assemble_vector, apply_lifting # Functions for creating the matrix problems\n",
    "from dolfinx.io import XDMFFile\n",
    "from dolfinx.mesh import CellType, create_rectangle, locate_entities_boundary # Mesh creating functions\n",
    "from ufl import div, dx, grad, inner, curl # operand functions"
   ]
  },
  {
   "cell_type": "code",
   "execution_count": null,
   "id": "5cd103b1-1e44-4873-9485-5a13484c2327",
   "metadata": {},
   "outputs": [],
   "source": []
  },
  {
   "cell_type": "markdown",
   "id": "d4a81ad9-23f6-48a7-98fa-0c108b2f3f36",
   "metadata": {},
   "source": [
    "## *Dominio y Malla*"
   ]
  },
  {
   "cell_type": "code",
   "execution_count": 5,
   "id": "8ecc2b91-eb5d-44f4-9184-65b5977b48f7",
   "metadata": {},
   "outputs": [],
   "source": [
    "# Malla como el cuadrado unitario\n",
    "n = 128\n",
    "msh = create_rectangle(MPI.COMM_WORLD, [np.array([0,0]), np.array([1,1])],  [n,n],  CellType.triangle)\n",
    "# Se especifica MPI.COMM_WORLD para paralelizar el proceso de crear la malla\n",
    "\n",
    "# El primer array refiere a la lista de puntos que definen el rectángulo (2 puntos)\n",
    "\n",
    "# El 2do array refiere a la \"resolución\" de la malla. [n_x,n_y]\n",
    "# n_x es el número de segmentos en que se divide el dominio en el eje x\n",
    "# Análogo con n_y. De esta forma h = 1/n_x\n",
    "\n",
    "# El número de celdas sería n_x*n_y, y el tipo especificado por \"CellType.type\", en este caso triangulares\n"
   ]
  },
  {
   "cell_type": "markdown",
   "id": "986c7bed-754c-4049-a8c9-ed2920c319da",
   "metadata": {},
   "source": [
    "Luego de crear la malla, identificamos los bordes del dominio para después asignarles las condiciones a cada uno"
   ]
  },
  {
   "cell_type": "code",
   "execution_count": 6,
   "id": "4762db57-f98b-4ee6-bd75-e3a78f5d89af",
   "metadata": {},
   "outputs": [],
   "source": [
    "# Ahora especificamos aquellas partes del dominio que corresponden al borde\n",
    "# Esto por medio de funciones asociadas a estas zonas\n",
    "\n",
    "# Para Omega_1\n",
    "def noslip_boundary(x):\n",
    "    # Dado un punto x, retorna si su coordenada x[i] es cercana al valor dado después.\n",
    "    # En este caso, muro izquierdo | muro derecho | muro inferior\n",
    "    return np.isclose(x[0], 0.0) | np.isclose(x[0], 1.0) | np.isclose(x[1], 0.0)\n",
    "\n",
    "# Para Omega_0\n",
    "def lid(x):\n",
    "    # Muro superior\n",
    "    return np.isclose(x[1], 1.0)"
   ]
  },
  {
   "cell_type": "markdown",
   "id": "e1862c3c",
   "metadata": {},
   "source": [
    "Especificamos una condición de borde extra para las esquinas"
   ]
  },
  {
   "cell_type": "code",
   "execution_count": 7,
   "id": "1f8e0d1a",
   "metadata": {},
   "outputs": [],
   "source": [
    "def corners(x):\n",
    "    # detecta las esquinas. \n",
    "    return (np.isclose(x[0], 0.0) & np.isclose(x[1], 1.0)) | \\\n",
    "           (np.isclose(x[0], 1.0) & np.isclose(x[1], 1.0))"
   ]
  },
  {
   "cell_type": "markdown",
   "id": "cb49c6dd-1d65-4deb-822f-5a86e8a77883",
   "metadata": {},
   "source": [
    "## *Elementos y espacios de funciones*"
   ]
  },
  {
   "cell_type": "markdown",
   "id": "adf85ce5-809b-4b8d-8210-8c8ccc153f43",
   "metadata": {},
   "source": [
    "Ahora, podemos definir los espacios de funciones que queremos utilizar para la velocidad y la presión."
   ]
  },
  {
   "cell_type": "code",
   "execution_count": 8,
   "id": "08bdf76a-62eb-4774-b3ea-9604fb51ed57",
   "metadata": {},
   "outputs": [],
   "source": [
    "# Utilizaremos Taylor-Hood elements para la malla\n",
    "\n",
    "# P2 para la velocidad, \"Lagrange\" es el nombre. Tiene un grado k = 2\n",
    "P2 = element(\"Lagrange\", msh.basix_cell(), 2, shape=(msh.geometry.dim,), dtype=default_real_type)\n",
    "# msh.basix_cell() es para saber la geometría de nuestros elementos, en este caso triángulos\n",
    "# shape=1 es default, refiere a la dimensión que tendrá el elemento, en este caso 2, pues es un vector con 2 coordenadas\n",
    "#dtype es el tipo de número que se utilizará, en este caso Reales\n",
    "\n",
    "# P1 para la presión, \"Lagrange\" es el nombre. Tiene un grado k-1 = 1\n",
    "P1 = element(\"Lagrange\", msh.basix_cell(), 1, dtype=default_real_type)\n",
    "\n",
    "# Creamos el espacio mixto\n",
    "TH = mixed_element([P2, P1])\n",
    "W = functionspace(msh, TH)"
   ]
  },
  {
   "cell_type": "markdown",
   "id": "384ff362-41ec-4d72-934f-0daa912fb2e5",
   "metadata": {},
   "source": [
    "## *Condiciones de borde*"
   ]
  },
  {
   "cell_type": "code",
   "execution_count": 9,
   "id": "da9b3515-2dc8-495c-9548-ed9696b6a4f3",
   "metadata": {},
   "outputs": [],
   "source": [
    "W0 = W.sub(0) # Tomamos la parte del espacio mixto que corresponde a la velocidad\n",
    "Q, _ = W0.collapse() # Creamos este \"nuevo\" espacio de funciones correspondiente a la velocidad\n",
    "\n",
    "# no-slip boundary conditions\n",
    "noslip = Function(Q) # Crea una función en el espacio Q con default 0 (u = (0,0))\n",
    "#u0 = Constant(msh, (PETSc.ScalarType(0.0), PETSc.ScalarType(0.0)))\n",
    "#noslip.interpolate(u0)\n",
    "\n",
    "\n",
    "facets = locate_entities_boundary(msh, 1, noslip_boundary) # (msh, dim, marker)\n",
    "# Esta función identifica en msh los puntos de dim=1 dados por la función noslip_boundary\n",
    "\n",
    "# Asignamos la condición de Dirichlet u = (0,0) a esos puntos hallados\n",
    "dofs = locate_dofs_topological((W0, Q), 1, facets)\n",
    "bc0 = dirichletbc(noslip, dofs, W0)\n",
    "# Plantearlo con (W0,Q) permite que se mapee correctamente de vuelta a W0 \"The tuple (W0, Q) lets DOLFINx map back from Q to W0 correctly\""
   ]
  },
  {
   "cell_type": "code",
   "execution_count": 10,
   "id": "4d1b9911-ca60-45dc-9dbe-503aec3b0fa1",
   "metadata": {},
   "outputs": [],
   "source": [
    "# Función para definir la velocidad del flujo en Omega_0, el muro superior\n",
    "def lid_velocity_expression(x):\n",
    "    # Retorna la velocidad u = (1,0)\n",
    "    return np.stack((np.ones(x.shape[1]), np.zeros(x.shape[1])))"
   ]
  },
  {
   "cell_type": "code",
   "execution_count": 11,
   "id": "7e2ba7dd-b154-4ec8-9bc3-69256e615525",
   "metadata": {},
   "outputs": [],
   "source": [
    "# Lid-driven boundary condition u = (1,0) en y=1\n",
    "lid_velocity = Function(Q)\n",
    "lid_velocity.interpolate(lid_velocity_expression) # Interpola valores dados por lid_velocity_expression con funciones del espacio de funciones de Q\n",
    "facets = locate_entities_boundary(msh, 1, lid)\n",
    "\n",
    "dofs = locate_dofs_topological((W0, Q), 1, facets)\n",
    "bc1 = dirichletbc(lid_velocity, dofs, W0)\n"
   ]
  },
  {
   "cell_type": "code",
   "execution_count": 12,
   "id": "9247ac18",
   "metadata": {},
   "outputs": [],
   "source": [
    "# Lid-driven boundary condition u = (1,0) en y=1\n",
    "#corner_bc = Function(Q)\n",
    "#corner_bc.interpolate(lid_velocity_expression) # Interpola valores dados por lid_velocity_expression con funciones del espacio de funciones de Q\n",
    "#facets = locate_entities_boundary(msh, 1, corners)\n",
    "\n",
    "#dofs = locate_dofs_topological((W0, Q), 1, facets)\n",
    "#c2 = dirichletbc(corner_bc, dofs, W0)\n",
    "\n",
    "\n",
    "# Juntamos en una lista las condiciones de borde\n",
    "bcs = [bc0,bc1]"
   ]
  },
  {
   "cell_type": "markdown",
   "id": "81984628-0e24-4551-850e-074413e036e4",
   "metadata": {},
   "source": [
    "## *Formulación del problema*"
   ]
  },
  {
   "cell_type": "markdown",
   "id": "7e5623bb-c6f5-4dd7-9efb-fe670bc1c67f",
   "metadata": {},
   "source": [
    "Primero creamos las test & trial functions, junto con $f$"
   ]
  },
  {
   "cell_type": "code",
   "execution_count": 13,
   "id": "3f1317ce-f5ba-479e-afc1-f506e61470a3",
   "metadata": {},
   "outputs": [],
   "source": [
    "# Definimos el problema variacional\n",
    "(u,p) = ufl.TrialFunctions(W) # Definimos las trial functions\n",
    "(v,q) = ufl.TestFunctions(W) # Definimos las test functions\n",
    "\n",
    "f = Function(Q) \n",
    "#f0 = Constant(mesh, (PETSc.ScalarType(0), PETSc.ScalarType(0)))\n",
    "#f.interpolate(f0)  "
   ]
  },
  {
   "cell_type": "markdown",
   "id": "ee70ceb7-189f-475e-919a-23767eae541c",
   "metadata": {},
   "source": [
    "Ahora, procedemos a plantear las formas lineal y bilineal"
   ]
  },
  {
   "cell_type": "markdown",
   "id": "47aaf835",
   "metadata": {},
   "source": [
    "Forma variacional\n",
    "\n",
    "$$\n",
    "\\mu \\int_\\Omega \\nabla u : \\nabla v \\ d\\Omega - \\int_\\Omega p \\nabla \\cdot v \\ d\\Omega = \\int_\\Omega f \\cdot v \\ d\\Omega\n",
    "$$\n",
    "$$ \n",
    "\\int_\\Omega (\\nabla \\cdot u) \\cdot q \\ d\\Omega\n",
    "$$"
   ]
  },
  {
   "cell_type": "code",
   "execution_count": 14,
   "id": "f290edff",
   "metadata": {},
   "outputs": [
    {
     "name": "stdout",
     "output_type": "stream",
     "text": [
      "10000.0\n"
     ]
    }
   ],
   "source": [
    "U = 1 # Characteristic velocity\n",
    "L = 1 # Characteristic lenght\n",
    "mu = 1e-8\n",
    "rho = 1e-4\n",
    "\n",
    "nu = mu/rho\n",
    "Re = (U*L)/nu\n",
    "k = 1/Re\n",
    "print(Re)"
   ]
  },
  {
   "cell_type": "code",
   "execution_count": 15,
   "id": "419d07ad-4536-4c43-adc3-656997c5edc4",
   "metadata": {},
   "outputs": [],
   "source": [
    "# Forma bilineal\n",
    "#a = form(PETSc.ScalarType(mu)*(inner(grad(u), grad(v)) - inner(p, div(v)) + inner(div(u), q))* dx )\n",
    "a = form(PETSc.ScalarType(k)*(inner(grad(u), grad(v)) - inner(p, div(v)) + inner(div(u), q))* dx )\n",
    "\n",
    "# Forma lineal\n",
    "L = form(inner(f,v) * dx)"
   ]
  },
  {
   "cell_type": "markdown",
   "id": "9f1537e7-b9af-4657-95ad-88d14238aac6",
   "metadata": {},
   "source": [
    "Armamos la matriz y el vector asociados al problema"
   ]
  },
  {
   "cell_type": "code",
   "execution_count": 16,
   "id": "ab703ac8-ab3f-436f-9b3c-2f05f6283395",
   "metadata": {},
   "outputs": [],
   "source": [
    "# Armamos la matriz A de la forma bilinear\n",
    "A = assemble_matrix(a, bcs=bcs)\n",
    "A.assemble()\n",
    "\n",
    "# Armamos el vector b de la forma linear\n",
    "b = assemble_vector(L)\n",
    "\n",
    "# \"Ajustamos\" b para que se mantenga la igualad Ax = b luego de aplicarle las bcs a A\n",
    "apply_lifting(b, [a], bcs=[bcs])\n",
    "\n",
    "# Sincroniza los \"Ghost values\" usados para la computación paralela\n",
    "b.ghostUpdate(addv=PETSc.InsertMode.ADD, mode=PETSc.ScatterMode.REVERSE)\n",
    "\n",
    "# Aplicamos las condiciones de borde a b\n",
    "for bc in bcs:\n",
    "    bc.set(b)"
   ]
  },
  {
   "cell_type": "markdown",
   "id": "ac12a2a1-235b-46f4-8df8-90dbbe6c70a2",
   "metadata": {},
   "source": [
    "## _**Resolución del problema**_"
   ]
  },
  {
   "cell_type": "markdown",
   "id": "d509dda2-3b64-493c-98dd-b57949b65341",
   "metadata": {},
   "source": [
    "Solver"
   ]
  },
  {
   "cell_type": "code",
   "execution_count": 17,
   "id": "cec1902e-e4fa-4254-9943-6ace8f8ce530",
   "metadata": {},
   "outputs": [],
   "source": [
    "# Configuramos el solver (Kyrlov SubsPace method)\n",
    "ksp = PETSc.KSP().create(msh.comm)\n",
    "# KSP refiere a usar krylov subspaces para resolver el problema\n",
    "# create(msh.comm) hace que el solver utilice ksp\n",
    "\n",
    "ksp.setOperators(A) # Define la matriz A del sistema\n",
    "ksp.setType(\"preonly\") # Aplica el precondicionador 1 sola vez de forma que sea un direct solver\n",
    "#ksp.setType(\"cg\") # Utiliza el método de gradiente conjugado para resolver el sistema lineal"
   ]
  },
  {
   "cell_type": "markdown",
   "id": "79866d84-08c8-400d-9cb0-67d126428a23",
   "metadata": {},
   "source": [
    "Nullspace"
   ]
  },
  {
   "cell_type": "code",
   "execution_count": 18,
   "id": "3ebcdc09-31d9-44fc-94e1-7538c1c81f16",
   "metadata": {},
   "outputs": [],
   "source": [
    "# Configuramos MUMPS para que maneje el espacio nulo de la presión\n",
    "# MUMPS: MUltifrontal Massively Parallel sparse direct Solver\n",
    "pc = ksp.getPC() # Precondicionador de ksp\n",
    "pc.setType(\"lu\") # El preocondicionador a usar (de LU)\n",
    "\n",
    "pc.setFactorSolverType(\"mumps\") \n",
    "pc.setFactorSetUpSolverType()\n",
    "pc.getFactorMatrix().setMumpsIcntl(icntl=24, ival=1)\n",
    "pc.getFactorMatrix().setMumpsIcntl(icntl=25, ival=0)\n",
    "\n",
    "pc.setFactorSolverType(\"superlu_dist\")"
   ]
  },
  {
   "cell_type": "markdown",
   "id": "45bc53c6-29d2-46b3-93c2-9cb23cd121ca",
   "metadata": {},
   "source": [
    "Resolución"
   ]
  },
  {
   "cell_type": "code",
   "execution_count": 19,
   "id": "afa3e24a-016c-4631-9f32-c9dddf039de9",
   "metadata": {},
   "outputs": [],
   "source": [
    "U = Function(W)\n",
    "ksp.solve(b, U.x.petsc_vec)"
   ]
  },
  {
   "cell_type": "code",
   "execution_count": 20,
   "id": "dc0261f0-fbaa-4d70-8edb-066e75bded92",
   "metadata": {},
   "outputs": [],
   "source": [
    "u, p = U.sub(0).collapse(), U.sub(1).collapse()"
   ]
  },
  {
   "cell_type": "code",
   "execution_count": 21,
   "id": "13a09a20",
   "metadata": {},
   "outputs": [
    {
     "data": {
      "text/plain": [
       "dolfinx.fem.function.Function"
      ]
     },
     "execution_count": 21,
     "metadata": {},
     "output_type": "execute_result"
    }
   ],
   "source": [
    "type(u)"
   ]
  },
  {
   "cell_type": "code",
   "execution_count": 22,
   "id": "2fb3c761",
   "metadata": {},
   "outputs": [],
   "source": [
    "V_curl = functionspace(msh, (\"CG\", 1)) # Discontinuous Lagrange space de grado k-1\n",
    "vortex = curl(u)\n",
    "vorticity_exp = Expression(vortex, V_curl.element.interpolation_points())\n",
    "\n",
    "# Interpolamos la función (espacio) sobre los valores de curl(u) \n",
    "vorticity = Function(V_curl)\n",
    "vorticity.interpolate(vorticity_exp)"
   ]
  },
  {
   "cell_type": "code",
   "execution_count": 23,
   "id": "b627c29c-a54c-4254-8210-98c3c22911b1",
   "metadata": {},
   "outputs": [],
   "source": [
    "from dolfinx.io import XDMFFile\n",
    "\n",
    "# Guardar el archivo de la velocidad\n",
    "with XDMFFile(MPI.COMM_WORLD, \"xdmf/velocity.xdmf\", \"w\") as ufile_xdmf:\n",
    "    u.x.scatter_forward()\n",
    "    P1 = element(\n",
    "        \"Lagrange\", msh.basix_cell(), 1, shape=(msh.geometry.dim,), dtype=default_real_type\n",
    "    )\n",
    "    u1 = Function(functionspace(msh, P1))\n",
    "    u1.interpolate(u)\n",
    "    ufile_xdmf.write_mesh(msh)\n",
    "    ufile_xdmf.write_function(u1)\n",
    "\n",
    "# Guardar la presión\n",
    "with XDMFFile(MPI.COMM_WORLD, \"xdmf/pressure.xdmf\", \"w\") as pfile_xdmf:\n",
    "    p.x.scatter_forward()\n",
    "    pfile_xdmf.write_mesh(msh)\n",
    "    pfile_xdmf.write_function(p)"
   ]
  },
  {
   "cell_type": "code",
   "execution_count": 24,
   "id": "871d608f",
   "metadata": {},
   "outputs": [
    {
     "name": "stdout",
     "output_type": "stream",
     "text": [
      "132098\n",
      "33282\n"
     ]
    }
   ],
   "source": [
    "print(len(u.x.array))\n",
    "print(len(u1.x.array))"
   ]
  },
  {
   "cell_type": "code",
   "execution_count": 25,
   "id": "c68702f1",
   "metadata": {},
   "outputs": [
    {
     "name": "stdout",
     "output_type": "stream",
     "text": [
      "132098\n",
      "16641\n"
     ]
    }
   ],
   "source": [
    "print(len(u.x.array))\n",
    "print(len(p.x.array))"
   ]
  },
  {
   "cell_type": "markdown",
   "id": "7fcbcba0",
   "metadata": {},
   "source": [
    "## _**Vorticidad**_"
   ]
  },
  {
   "cell_type": "code",
   "execution_count": 26,
   "id": "ca868edc",
   "metadata": {},
   "outputs": [],
   "source": [
    "with XDMFFile(msh.comm, \"xdmf/vorticity.xdmf\", \"w\") as vortfile_xdmf:\n",
    "    vorticity.x.scatter_forward()\n",
    "    vortfile_xdmf.write_mesh(msh)\n",
    "    vortfile_xdmf.write_function(vorticity)"
   ]
  }
 ],
 "metadata": {
  "kernelspec": {
   "display_name": "fenicsx-env",
   "language": "python",
   "name": "python3"
  },
  "language_info": {
   "codemirror_mode": {
    "name": "ipython",
    "version": 3
   },
   "file_extension": ".py",
   "mimetype": "text/x-python",
   "name": "python",
   "nbconvert_exporter": "python",
   "pygments_lexer": "ipython3",
   "version": "3.13.2"
  }
 },
 "nbformat": 4,
 "nbformat_minor": 5
}
