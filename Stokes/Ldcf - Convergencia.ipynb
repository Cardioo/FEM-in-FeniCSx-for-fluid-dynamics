{
 "cells": [
  {
   "cell_type": "markdown",
   "id": "fdb029ad-0286-4317-83c5-7e3a93c8a7ef",
   "metadata": {},
   "source": [
    "## _**Librerías**_"
   ]
  },
  {
   "cell_type": "code",
   "execution_count": 1,
   "id": "73c11060-23c1-45d6-94b8-457f3503614c",
   "metadata": {},
   "outputs": [],
   "source": [
    "from mpi4py import MPI # Message Passing Interface\n",
    "from petsc4py import PETSc # Library for solving PDE's assosiated linear problems\n",
    "import dolfinx # FeniCSx Interface\n",
    "\n",
    "import numpy as np # Numpy, the classic\n",
    "\n",
    "import ufl\n",
    "from basix.ufl import element, mixed_element # Elements for the FEM\n",
    "from dolfinx import default_real_type, fem, la # FEM library with the functions required for solving through FEM (for real values)\n",
    "from dolfinx.fem import (\n",
    "    Constant,\n",
    "    Function,\n",
    "    dirichletbc,\n",
    "    extract_function_spaces, \n",
    "    form,\n",
    "    functionspace,\n",
    "    locate_dofs_topological,\n",
    "    create_interpolation_data,\n",
    "    assemble_scalar\n",
    ") # Functions for defining variational problems and defining mathematical functions and constants\n",
    "from dolfinx.fem.petsc import assemble_matrix, assemble_vector, apply_lifting # Functions for creating the matrix problems\n",
    "from dolfinx.io import XDMFFile\n",
    "from dolfinx.mesh import CellType, create_rectangle, locate_entities_boundary # Mesh creating functions\n",
    "from ufl import div, dx, grad, inner # operand functions"
   ]
  },
  {
   "cell_type": "markdown",
   "id": "0ca5131c-d9b6-4d3e-98d3-8ecde48fea76",
   "metadata": {},
   "source": [
    "## _**Función de malla**_"
   ]
  },
  {
   "cell_type": "code",
   "execution_count": 2,
   "id": "a9eb4b8f-b10f-47a8-b742-ec07955c8883",
   "metadata": {},
   "outputs": [],
   "source": [
    "def crear_malla(n):\n",
    "    return create_rectangle(MPI.COMM_WORLD, [np.array([0.0,0.0]), np.array([1.0,1.0])], [n,n], CellType.triangle)"
   ]
  },
  {
   "cell_type": "markdown",
   "id": "8b6890f1-1cc3-4a39-99af-db1a1133fa8e",
   "metadata": {},
   "source": [
    "## _**Funciones para condiciones de borde**_"
   ]
  },
  {
   "cell_type": "code",
   "execution_count": 3,
   "id": "5689d8b1-533c-4a08-bb2f-37e12941a2e5",
   "metadata": {},
   "outputs": [],
   "source": [
    "def noslip_boundary(x):\n",
    "    # Dado un punto x, retorna si su coordenada x[i] es cercana al valor dado después.\n",
    "    # En este caso, muro izquierdo | muro derecho | muro inferior\n",
    "    return np.isclose(x[0], 0.0) | np.isclose(x[0], 1.0) | np.isclose(x[1], 0.0)\n",
    "\n",
    "def lid(x):\n",
    "    # Muro superior\n",
    "    return np.isclose(x[1], 1.0)\n",
    "\n",
    "def lid_velocity_expression(x):\n",
    "    # Retorna la velocidad u = (1,0)\n",
    "    return np.stack((np.ones(x.shape[1]), np.zeros(x.shape[1])))\n",
    "\n",
    "def corners(x):\n",
    "    # detecta las esquinas. \n",
    "    return (np.isclose(x[0], 0.0) & np.isclose(x[1], 1.0)) | \\\n",
    "           (np.isclose(x[0], 1.0) & np.isclose(x[1], 1.0))"
   ]
  },
  {
   "cell_type": "markdown",
   "id": "c39caa01-c1dd-4fe0-9925-ba2b0de81ac2",
   "metadata": {
    "jp-MarkdownHeadingCollapsed": true
   },
   "source": [
    "## _**Función de resolución**_"
   ]
  },
  {
   "cell_type": "code",
   "execution_count": 1,
   "id": "869a6b7e-40e8-4826-bfc7-bf014aa9d7e4",
   "metadata": {},
   "outputs": [],
   "source": [
    "def calculate_sol(n: int, f0:list, mu: int, elem: str, grad_vec: int, grad_elem: int) -> tuple:\n",
    "    \"\"\"\n",
    "    Calculates the solution of a lid-driven cavity flow for a stationary stokes flow in 2D \n",
    "    given the resolution n of the mesh, the element and grades for the vectorial and scalar elements.\n",
    "    IMPORTANT: f0 is now set to (0,0). It needs work to be able to change it in the function\n",
    "    \"\"\"\n",
    "\n",
    "    # -------------- Malla -------------- #\n",
    "    msh = crear_malla(n)\n",
    "    # ----------------------------------- #\n",
    "\n",
    "\n",
    "    \n",
    "    # --------------------------------------------- Elements --------------------------------------------- #\n",
    "    if elem == \"Taylor-Hood\":\n",
    "        P2 = element(\"Lagrange\", msh.basix_cell(), grad_vec, shape=(msh.geometry.dim,), dtype=default_real_type) # P2  grad k \n",
    "        P1 = element(\"Lagrange\", msh.basix_cell(), grad_elem, dtype=default_real_type) # P1 grad k-1 \n",
    "\n",
    "    TH = mixed_element([P2, P1])\n",
    "    W = functionspace(msh, TH)\n",
    "    # ---------------------------------------------------------------------------------------------------- #\n",
    "\n",
    "    \n",
    "    \n",
    "    # --------------------------------------- Boundary Conditions --------------------------------------- #\n",
    "    W0 = W.sub(0) # Tomamos la parte del espacio mixto que corresponde a la velocidad\n",
    "    Q, _ = W0.collapse() # Creamos este \"nuevo\" espacio de funciones correspondiente a la velocidad\n",
    "    \n",
    "    # no-slip boundary conditions\n",
    "    noslip = Function(Q)  # Default = 0\n",
    "    \n",
    "    facets = locate_entities_boundary(msh, 1, noslip_boundary) # (msh, dim, marker)\n",
    "    \n",
    "    # Asignamos la condición de Dirichlet u = (0,0) a esos puntos hallados\n",
    "    dofs = locate_dofs_topological((W0, Q), 1, facets)\n",
    "    bc0 = dirichletbc(noslip, dofs, W0)\n",
    "\n",
    "    # Lid-driven boundary condition u = (1,0) en y=1\n",
    "    lid_velocity = Function(Q)\n",
    "    lid_velocity.interpolate(lid_velocity_expression) # Interpola valores dados por lid_velocity_expression con funciones del espacio de funciones de Q\n",
    "    facets = locate_entities_boundary(msh, 1, lid)\n",
    "    \n",
    "    dofs = locate_dofs_topological((W0, Q), 1, facets)\n",
    "    bc1 = dirichletbc(lid_velocity, dofs, W0)\n",
    "    \n",
    "    # Lid-driven boundary condition u = (1,0) en las esquinas\n",
    "    corner_bc = Function(Q)\n",
    "    corner_bc.interpolate(lid_velocity_expression) # Interpola valores dados por lid_velocity_expression con funciones del espacio de funciones de Q\n",
    "    facets = locate_entities_boundary(msh, 1, corners)\n",
    "\n",
    "    dofs = locate_dofs_topological((W0, Q), 1, facets)\n",
    "    bc2 = dirichletbc(corner_bc, dofs, W0)\n",
    "\n",
    "\n",
    "    # Juntamos en una lista las condiciones de borde\n",
    "    #bcs = [bc0,bc1, bc2]\n",
    "    bcs = [bc0, bc1]\n",
    "\n",
    "    # ----------------------------------------------------------------------------------------------------- #\n",
    "\n",
    "    \n",
    "    \n",
    "    # ----------------------------Formulación variacional-------------------------------- #\n",
    "    (u,p) = ufl.TrialFunctions(W) # Definimos las trial functions\n",
    "    (v,q) = ufl.TestFunctions(W) # Definimos las test functions\n",
    "    \n",
    "    f = Function(Q) \n",
    "    #f.interpolate(f0)\n",
    "\n",
    "    U = 1 # Characteristic velocity\n",
    "    L = 1 # Characteristic lenght\n",
    "    rho = 1e-6\n",
    "\n",
    "    nu = mu/rho\n",
    "    Re = PETSc.ScalarType((U*L)/nu)\n",
    "\n",
    "    # Forma bilineal\n",
    "    a = form(PETSc.ScalarType(mu)*(inner(grad(u), grad(v)) + inner(p, div(v)) + inner(div(u), q))* dx )\n",
    "    \n",
    "    # Forma lineal\n",
    "    L = form(inner(f,v) * dx)\n",
    "\n",
    "    # ------------------------------------------------------------------------------------ #\n",
    "\n",
    "\n",
    "\n",
    "    # ------------------------------------ Resolución del problema ------------------------------------ #\n",
    "    # Armamos la matriz A de la forma bilinear\n",
    "    A = assemble_matrix(a, bcs=bcs)\n",
    "    A.assemble()\n",
    "    \n",
    "    # Armamos el vector b de la forma linear\n",
    "    b = assemble_vector(L)\n",
    "    \n",
    "    # \"Ajustamos\" b para que se mantenga la igualad Ax = b luego de aplicarle las bcs a A\n",
    "    apply_lifting(b, [a], bcs=[bcs])\n",
    "    \n",
    "    # Sincroniza los \"Ghost values\" usados para la computación paralela\n",
    "    b.ghostUpdate(addv=PETSc.InsertMode.ADD, mode=PETSc.ScatterMode.REVERSE) # ???\n",
    "    \n",
    "    # Aplicamos las condiciones de borde a b\n",
    "    for bc in bcs:\n",
    "        bc.set(b)\n",
    "\n",
    "    # Configuramos el solver (Kyrlov SubsPace method)\n",
    "    ksp = PETSc.KSP().create(msh.comm) # msh.comm es el MPI communicator que permite computación paralela\n",
    "    ksp.setOperators(A) # Define la matriz A del sistema\n",
    "    #ksp.setType(\"cg\") # Aplica el precondicionador 1 sola vez para el direct solver\n",
    "    ksp.setType(\"preonly\")\n",
    "\n",
    "    # Configuramos MUMPS para que maneje el espacio nulo de la presión\n",
    "    # MUMPS: MUltifrontal Massively Parallel sparse direct Solver\n",
    "    pc = ksp.getPC() # Precondicionador de ksp\n",
    "    pc.setType(\"lu\") # El preocondicionador a usar (de LU)\n",
    "    \n",
    "    pc.setFactorSolverType(\"mumps\") \n",
    "    pc.setFactorSetUpSolverType()\n",
    "    pc.getFactorMatrix().setMumpsIcntl(icntl=24, ival=1)\n",
    "    pc.getFactorMatrix().setMumpsIcntl(icntl=25, ival=0)\n",
    "    \n",
    "    pc.setFactorSolverType(\"superlu_dist\") # Establece el tipo de solver\n",
    "\n",
    "    # Resolución\n",
    "    U = Function(W)\n",
    "    ksp.solve(b, U.x.petsc_vec)\n",
    "\n",
    "    u, p = U.sub(0).collapse(), U.sub(1).collapse()\n",
    "\n",
    "    # ------------------------------------------------------------------------------------------------- #\n",
    "\n",
    "    return u, p, W"
   ]
  },
  {
   "cell_type": "markdown",
   "id": "9b1494e7-d002-4acd-8e74-cf6a1fb77ea6",
   "metadata": {},
   "source": [
    "## _**Convergencia**_"
   ]
  },
  {
   "cell_type": "markdown",
   "id": "8816a851",
   "metadata": {},
   "source": [
    "### _Calculation of solutions_"
   ]
  },
  {
   "cell_type": "code",
   "execution_count": 5,
   "id": "ab5b33be",
   "metadata": {},
   "outputs": [
    {
     "name": "stdout",
     "output_type": "stream",
     "text": [
      "Calulating solution for n = 8...\n",
      "Solved!\n",
      "Calulating solution for n = 16...\n",
      "Solved!\n",
      "Calulating solution for n = 32...\n",
      "Solved!\n",
      "Calulating solution for n = 64...\n",
      "Solved!\n",
      "Calulating solution for n = 128...\n",
      "Solved!\n",
      "Calulating solution for n = 256...\n",
      "Solved!\n"
     ]
    }
   ],
   "source": [
    "total = 6\n",
    "sizes = [2**(i+3) for i in range(total)]\n",
    "elem = \"Taylor-Hood\"\n",
    "f0 = [0,0]\n",
    "mu = 1\n",
    "k = 2\n",
    "\n",
    "u_h_list = [0 for i in range(total)]\n",
    "p_h_list = [0 for i in range(total)]\n",
    "W_h_list = [0 for i in range(total)]\n",
    "\n",
    "\n",
    "for i in range(total):\n",
    "    n = sizes[i]\n",
    "    print(f\"Calulating solution for n = {n}...\")\n",
    "    u, p, W = calculate_sol(n, f0, mu, elem, k, k-1)\n",
    "    u_h_list[i] = u\n",
    "    p_h_list[i] = p\n",
    "    W_h_list[i] = W\n",
    "    print(\"Solved!\")"
   ]
  },
  {
   "cell_type": "markdown",
   "id": "63a623fe",
   "metadata": {
    "jp-MarkdownHeadingCollapsed": true
   },
   "source": [
    "### _Error norm function_"
   ]
  },
  {
   "cell_type": "code",
   "execution_count": 6,
   "id": "625ab24e",
   "metadata": {},
   "outputs": [],
   "source": [
    "def norm(norm_type: str ,u_ex: dolfinx.fem.function.Function, V_ex: dolfinx.fem.function.FunctionSpace, u_h :dolfinx.fem.function.Function, V_h: dolfinx.fem.function.FunctionSpace, cells_fine: np.ndarray):\n",
    "    \"\"\"\n",
    "    Calculates the error norm between a \"exact\" solution and a approximated solution to a \n",
    "    PDE calculated through the FEM given the solutions and their respective functions spaces\n",
    "    \"\"\"\n",
    "    \n",
    "    # ----------------------------- mesh interpolation ----------------------------- #\n",
    "    # Interpolamos la solución aproximada sobre la malla fina\n",
    "    u_h_coarse_to_fine = Function(V_ex)  # Nueva función en la malla fina\n",
    "    interpolation_data = create_interpolation_data(V_ex, V_h, cells_fine)  # Datos para interpolar entre espacios no coincidentes\n",
    "    u_h_coarse_to_fine.interpolate_nonmatching(u_h, cells_fine, interpolation_data=interpolation_data)  # Interpolación\n",
    "    u_h_coarse_to_fine.x.scatter_forward()  # Sincroniza datos entre procesos\n",
    "    # ------------------------------------------------------------------------------ #\n",
    "\n",
    "\n",
    "    # ------------------------------ Error ------------------------------ #\n",
    "    e = u_ex - u_h_coarse_to_fine\n",
    "\n",
    "    # If scalar (pressure), subtract mean before error calculation\n",
    "    if str(u_ex.function_space.ufl_element()) == \"Basix element (P, triangle, 1, gll_warped, unset, False, float64, [])\":  # Scalar field\n",
    "        u_ex.x.array[:] -= np.mean(u_ex.x.array)\n",
    "        u_h_coarse_to_fine.x.array[:] -= np.mean(u_h_coarse_to_fine.x.array)\n",
    "        \n",
    "    if norm_type == \"L2\":\n",
    "        error = form((inner(e,e))* dx) # Formamos la integral\n",
    "        error_local = assemble_scalar(error) # calculamos la integral\n",
    "        return np.sqrt(V_ex.mesh.comm.allreduce(error_local, op=MPI.SUM)) # Sumamos los errores en cada punto\n",
    "\n",
    "    elif norm_type == \"H1\":\n",
    "        error = form((inner(e,e) + inner(grad(e),grad(e)))* dx) # Formamos la integral\n",
    "        error_local = assemble_scalar(error) # calculamos la integral\n",
    "        return np.sqrt(V_ex.mesh.comm.allreduce(error_local, op=MPI.SUM)) # Sumamos los errores en cada punto\n",
    "    # ------------------------------------------------------------------- #\n"
   ]
  },
  {
   "cell_type": "markdown",
   "id": "ab6bcae6",
   "metadata": {
    "jp-MarkdownHeadingCollapsed": true
   },
   "source": [
    "### _**Convergence Rate**_"
   ]
  },
  {
   "cell_type": "code",
   "execution_count": 7,
   "id": "e49a70b1",
   "metadata": {},
   "outputs": [],
   "source": [
    "u_ex = u_h_list[-1]\n",
    "p_ex = p_h_list[-1]\n",
    "W_ex = W_h_list[-1]\n",
    "V_ex, _ = W_ex.sub(0).collapse()\n",
    "\n",
    "cells_fine_map = V_ex.mesh.topology.index_map(V_ex.mesh.topology.dim)\n",
    "num_cells_on_proc_fine = cells_fine_map.size_local + cells_fine_map.num_ghosts\n",
    "cells_fine_u = np.arange(num_cells_on_proc_fine, dtype=np.int32)\n",
    "\n",
    "Q_ex, _ = W_ex.sub(1).collapse()\n",
    "\n",
    "cells_fine_map = Q_ex.mesh.topology.index_map(Q_ex.mesh.topology.dim)\n",
    "num_cells_on_proc_fine = cells_fine_map.size_local + cells_fine_map.num_ghosts\n",
    "cells_fine_p = np.arange(num_cells_on_proc_fine, dtype=np.int32)\n",
    "\n",
    "total -= 1\n",
    "\n",
    "h = np.array([1/n for n in sizes][:total])\n"
   ]
  },
  {
   "cell_type": "markdown",
   "id": "8dbb8fe6",
   "metadata": {},
   "source": [
    "### Velocidad"
   ]
  },
  {
   "cell_type": "markdown",
   "id": "655655b3",
   "metadata": {},
   "source": [
    "#### _L2 norm_"
   ]
  },
  {
   "cell_type": "code",
   "execution_count": 8,
   "id": "66f1cfae",
   "metadata": {},
   "outputs": [],
   "source": [
    "# Interpolamos cada solución sobre la malla fina\n",
    "norm_type = \"L2\"\n",
    "error_L2_u = np.array([0. for i in range(total)])\n",
    "\n",
    "for i in range(total):\n",
    "    u_h = u_h_list[i]\n",
    "    W_h = W_h_list[i]\n",
    "    V_h, _ = W_h.sub(0).collapse()\n",
    "    \n",
    "    error_L2_u[i] = norm(norm_type,u_ex, V_ex, u_h, V_h, cells_fine_u)\n"
   ]
  },
  {
   "cell_type": "code",
   "execution_count": 9,
   "id": "600f6c11",
   "metadata": {},
   "outputs": [],
   "source": [
    "x_ref = 1/h[:total]\n",
    "y0 = error_L2_u[-2]\n",
    "x0 = x_ref[-2]\n",
    "asintota = y0 * (x_ref/x0)**(-2)"
   ]
  },
  {
   "cell_type": "code",
   "execution_count": 10,
   "id": "bad32abd",
   "metadata": {},
   "outputs": [
    {
     "data": {
      "image/png": "[encoded data removed]",
      "text/plain": [
       "<Figure size 640x480 with 1 Axes>"
      ]
     },
     "metadata": {},
     "output_type": "display_data"
    }
   ],
   "source": [
    "import matplotlib.pyplot as plt\n",
    "\n",
    "plt.loglog(1/h[:total], error_L2_u, \"o-\", label= \"||u_ex - u_h||\")\n",
    "plt.loglog(x_ref, asintota, \"r*--\", label=\"O(h^2)\")\n",
    "plt.legend(loc=\"upper right\")\n",
    "plt.title(f\"{norm_type} Error for velocity\")\n",
    "plt.xlabel(\"1/h\")\n",
    "plt.ylabel(\"Error\")\n",
    "plt.show()"
   ]
  },
  {
   "cell_type": "code",
   "execution_count": 11,
   "id": "861a9a63",
   "metadata": {},
   "outputs": [
    {
     "name": "stdout",
     "output_type": "stream",
     "text": [
      "Tasa de convergencia en la norma L2 = 1.4781709912789383\n"
     ]
    }
   ],
   "source": [
    "Slope, intercept = np.polyfit(np.log(1/h[total-2:total]), np.log(error_L2_u[total-2:]), 1)\n",
    "print(f\"Tasa de convergencia en la norma {norm_type} = {-Slope}\")"
   ]
  },
  {
   "cell_type": "markdown",
   "id": "f4d7d924",
   "metadata": {},
   "source": [
    "#### _H1 norm_"
   ]
  },
  {
   "cell_type": "code",
   "execution_count": 12,
   "id": "027da815",
   "metadata": {},
   "outputs": [],
   "source": [
    "# Interpolamos cada solución sobre la malla fina\n",
    "norm_type = \"H1\"\n",
    "\n",
    "error_H1_u = np.array([0. for i in range(total)])\n",
    "\n",
    "for i in range(total):\n",
    "    u_h = u_h_list[i]\n",
    "    W_h = W_h_list[i]\n",
    "    V_h, _= W_h.sub(0).collapse()\n",
    "\n",
    "    error_H1_u[i] = norm(norm_type,u_ex, V_ex, u_h, V_h, cells_fine_u)"
   ]
  },
  {
   "cell_type": "code",
   "execution_count": 13,
   "id": "5d23ad9e",
   "metadata": {},
   "outputs": [],
   "source": [
    "x_ref = 1/h[:total]\n",
    "y0 = error_H1_u[-2]\n",
    "x0 = x_ref[-2]\n",
    "asintota = y0 * (x_ref/x0)**(-1)"
   ]
  },
  {
   "cell_type": "code",
   "execution_count": 14,
   "id": "411dd4e3",
   "metadata": {},
   "outputs": [
    {
     "data": {
      "image/png": "[encoded data removed]",
      "text/plain": [
       "<Figure size 640x480 with 1 Axes>"
      ]
     },
     "metadata": {},
     "output_type": "display_data"
    }
   ],
   "source": [
    "import matplotlib.pyplot as plt\n",
    "\n",
    "plt.loglog(1/h[:total], error_H1_u, \"o-\", label= \"||u_ex - u_h||\")\n",
    "plt.loglog(x_ref, asintota, \"r*--\", label=\"O(h)\")\n",
    "plt.legend(loc=\"upper right\")\n",
    "plt.title(f\"{norm_type} Error for velocity\")\n",
    "plt.xlabel(\"1/h\")\n",
    "plt.ylabel(\"Error\")\n",
    "plt.show()"
   ]
  },
  {
   "cell_type": "code",
   "execution_count": 15,
   "id": "b668a1f0",
   "metadata": {},
   "outputs": [
    {
     "name": "stdout",
     "output_type": "stream",
     "text": [
      "Tasa de convergencia en la norma H1 = 0.6495297255369445\n"
     ]
    }
   ],
   "source": [
    "Slope, intercept = np.polyfit(np.log(1/h[total-2:total]), np.log(error_H1_u[total-2:]), 1)\n",
    "print(f\"Tasa de convergencia en la norma {norm_type} = {-Slope}\")"
   ]
  },
  {
   "cell_type": "markdown",
   "id": "1f6d7660",
   "metadata": {},
   "source": [
    "### Presión"
   ]
  },
  {
   "cell_type": "code",
   "execution_count": 16,
   "id": "17acc0b1",
   "metadata": {},
   "outputs": [],
   "source": [
    "# Interpolamos cada solución sobre la malla fina\n",
    "norm_type = \"L2\"\n",
    "error_L2_p = np.array([0. for i in range(total)])\n",
    "\n",
    "for i in range(total):\n",
    "    p_h = p_h_list[i]\n",
    "    W_h = W_h_list[i]\n",
    "    Q_h, _= W_h.sub(1).collapse()\n",
    "    \n",
    "    error_L2_p[i] = norm(norm_type,p_ex, Q_ex, p_h, Q_h, cells_fine_p)"
   ]
  },
  {
   "cell_type": "code",
   "execution_count": 17,
   "id": "d488cca6",
   "metadata": {},
   "outputs": [],
   "source": [
    "x_ref = 1/h[:total]\n",
    "y0 = error_L2_p[-2]\n",
    "x0 = x_ref[-2]\n",
    "asintota = y0 * (x_ref/x0)**(-1) "
   ]
  },
  {
   "cell_type": "code",
   "execution_count": 18,
   "id": "4ba633e4",
   "metadata": {},
   "outputs": [
    {
     "data": {
      "image/png": "[encoded data removed]",
      "text/plain": [
       "<Figure size 640x480 with 1 Axes>"
      ]
     },
     "metadata": {},
     "output_type": "display_data"
    }
   ],
   "source": [
    "import matplotlib.pyplot as plt\n",
    "\n",
    "plt.loglog(1/h[:total], error_L2_p, \"o-\", label= \"||p_ex - p_h||\")\n",
    "plt.loglog(x_ref, asintota, \"r*--\", label=\"O(h)\")\n",
    "plt.legend(loc=\"upper right\")\n",
    "plt.title(f\"{norm_type} Error for pressure\")\n",
    "plt.xlabel(\"1/h\")\n",
    "plt.ylabel(\"Error\")\n",
    "plt.show()"
   ]
  },
  {
   "cell_type": "code",
   "execution_count": 19,
   "id": "c545fbe3",
   "metadata": {},
   "outputs": [
    {
     "name": "stdout",
     "output_type": "stream",
     "text": [
      "Tasa de convergencia en la norma L2 = 0.8477418265191478\n"
     ]
    }
   ],
   "source": [
    "Slope, intercept = np.polyfit(np.log(1/h[total-2:total]), np.log(error_L2_p[total-2:]), 1)\n",
    "print(f\"Tasa de convergencia en la norma {norm_type} = {-Slope}\")"
   ]
  }
 ],
 "metadata": {
  "kernelspec": {
   "display_name": "fenicsx-env",
   "language": "python",
   "name": "python3"
  },
  "language_info": {
   "codemirror_mode": {
    "name": "ipython",
    "version": 3
   },
   "file_extension": ".py",
   "mimetype": "text/x-python",
   "name": "python",
   "nbconvert_exporter": "python",
   "pygments_lexer": "ipython3",
   "version": "3.13.2"
  }
 },
 "nbformat": 4,
 "nbformat_minor": 5
}
