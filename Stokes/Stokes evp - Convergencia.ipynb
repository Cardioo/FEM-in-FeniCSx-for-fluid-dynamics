{
 "cells": [
  {
   "cell_type": "markdown",
   "id": "227f04ae",
   "metadata": {},
   "source": [
    "# **Eigenvalue Problem for the Steady Stokes Flow**"
   ]
  },
  {
   "cell_type": "markdown",
   "id": "3781bd89",
   "metadata": {},
   "source": [
    "The Stokes eigenvalue problem (**SEP**) is:\n",
    "\n",
    "For a given domain $\\Omega \\subset \\Re$ with Lipschitz boundary, in this case $\\Omega = [0,1]\\times[0,1]$, find $\\lambda \\in \\Re$, the velocity $\\vec{u}$ and the pressure $p$ such that\n",
    "\n",
    "$$\\begin{align*} - \\nu \\nabla^2\\vec{u} + \\nabla p &= \\lambda \\vec{u} \\quad \\text{in} \\quad \\Omega, \n",
    "\\\\\\nabla \\cdot \\vec{u} &= 0 \\quad \\text{in} \\quad \\Omega, \n",
    "\\\\ \\vec{u} &= 0 \\quad \\text{on} \\quad \\partial \\Omega \\end{align*}$$"
   ]
  },
  {
   "cell_type": "markdown",
   "id": "c8166dc9",
   "metadata": {},
   "source": [
    "## _Libraries_"
   ]
  },
  {
   "cell_type": "code",
   "execution_count": 1,
   "id": "b0d31389",
   "metadata": {},
   "outputs": [],
   "source": [
    "from mpi4py import MPI \n",
    "import dolfinx \n",
    "import numpy as np \n",
    "import ufl\n",
    "from basix.ufl import element, mixed_element \n",
    "from dolfinx import default_real_type, fem, la \n",
    "from dolfinx.fem import (\n",
    "    Constant,\n",
    "    Function,\n",
    "    dirichletbc,\n",
    "    extract_function_spaces, \n",
    "    form,\n",
    "    functionspace,\n",
    "    locate_dofs_topological,\n",
    "    create_interpolation_data,\n",
    "    assemble_scalar\n",
    ") \n",
    "from dolfinx.fem.petsc import assemble_matrix, apply_lifting \n",
    "from dolfinx.io import XDMFFile\n",
    "from dolfinx.mesh import CellType, create_rectangle, locate_entities_boundary \n",
    "from ufl import div, dx, grad, inner, TrialFunctions, TestFunctions\n",
    "\n",
    "from petsc4py import PETSc \n",
    "from slepc4py import SLEPc "
   ]
  },
  {
   "cell_type": "markdown",
   "id": "84ad1c1c",
   "metadata": {},
   "source": [
    "## _Escential Functions_"
   ]
  },
  {
   "cell_type": "code",
   "execution_count": 2,
   "id": "ea4283f8",
   "metadata": {},
   "outputs": [],
   "source": [
    "def noslip_boundary(x):\n",
    "    return np.isclose(x[0], 0.0) | np.isclose(x[0], 1.0) | np.isclose(x[1], 0.0) | np.isclose(x[1], 1.0)"
   ]
  },
  {
   "cell_type": "code",
   "execution_count": 3,
   "id": "5acce8d0",
   "metadata": {},
   "outputs": [],
   "source": [
    "#def pressure_nullmap(A, M, p_index):\n",
    "#    # A\n",
    "#    col_indices = A.getRow(p_index)[0] # obtain the indices of (possible) nonzero values in the row\n",
    "#\n",
    "#    for i in range(len(col_indices)):\n",
    "#        A.setValue(p_index, col_indices[i], 0) \n",
    "#        A.setValue(col_indices[i], p_index, 0) \n",
    "#\n",
    "#    A.setValue(p_index,p_index, 1)\n",
    "#    A.assemble()\n",
    "#\n",
    "#    # M\n",
    "#    col_indices = M.getRow(p_index)[0] \n",
    "#\n",
    "#    for i in range(len(col_indices)):\n",
    "#        M.setValue(p_index, col_indices[i], 0) \n",
    "#        M.setValue(col_indices[i], p_index, 0) \n",
    "#\n",
    "#    M.setValue(p_index,p_index, 1)\n",
    "#    M.assemble()\n",
    "#    return A, M"
   ]
  },
  {
   "cell_type": "code",
   "execution_count": 4,
   "id": "215b8f73",
   "metadata": {},
   "outputs": [],
   "source": [
    "def solve_slepc(A, M, mesh, target, nev, tol, eps_shift = 1e-9):\n",
    "    A.shift(eps_shift)\n",
    "\n",
    "    E = SLEPc.EPS().create(MPI.COMM_WORLD) # Create Eigenvalue Problem Solver\n",
    "\n",
    "    st = E.getST() # get the Spectral Transformation\n",
    "    st.setType(SLEPc.ST.Type.SINVERT)  # shift-and-invert\n",
    "    st.setShift(target) # Target value to search arround for the eigenvalues \n",
    "    E.setTolerances(tol=tol) # Tolerance\n",
    "\n",
    "    E.setOperators(A, M)\n",
    "    E.setProblemType(SLEPc.EPS.ProblemType.GHEP) # Generalized Hermitian Eigenvalue Problem\n",
    "    E.setType(SLEPc.EPS.Type.KRYLOVSCHUR) # Type of eigensolver;  KRYLOVSCHUR (default), LANCZOS, ...\n",
    "    E.setTarget(target) # Target value of the target\n",
    "    E.setWhichEigenpairs(SLEPc.EPS.Which.TARGET_MAGNITUDE) # Portion of the spectrum to search arround \n",
    "    E.setDimensions(nev=nev) # Number of eigenvalues sought for\n",
    "\n",
    "    E.setFromOptions() # Apply the options\n",
    "    E.solve()\n",
    "\n",
    "    # Empty vectors to hold the eigenvectors\n",
    "    vr = PETSc.Vec().createSeq(E.getOperators()[0].getSize()[0]) # Real part\n",
    "    vi = PETSc.Vec().createSeq(E.getOperators()[0].getSize()[0]) # Imaginary part\n",
    "\n",
    "    eigenvectors = []\n",
    "    eigenvalues = []\n",
    "\n",
    "    for i in range(nev):\n",
    "        eigval = E.getEigenpair(i, vr, vi)\n",
    "        eigenvalues.append(eigval.real)\n",
    "        eigenvectors.append(vr.getArray().copy())\n",
    "    \n",
    "    return eigenvectors, eigenvalues"
   ]
  },
  {
   "cell_type": "code",
   "execution_count": 5,
   "id": "8bfc9a8b",
   "metadata": {},
   "outputs": [],
   "source": [
    "def reorder_eigvec(eigvec, dofmap_scalar, dofmap_vector, FunctionSpace_scalar, FunctionSpace_vector, mesh, p1=True):\n",
    "    \"\"\"\n",
    "    Reorders the resulting eigenvector given a dofmap and the dimentions.\n",
    "    Interpolates the array into a degree 1 polynomial.\n",
    "    \"\"\"\n",
    "    # Reorder Dofs\n",
    "    s = []\n",
    "    for k in range(len(dofmap_scalar)):\n",
    "        s.append(eigvec[dofmap_scalar[k]])\n",
    "    \n",
    "    v = []\n",
    "    for k in range(len(dofmap_vector)):\n",
    "        v.append(eigvec[dofmap_vector[k]])\n",
    "\n",
    "    # Transform array to function values in the nodes\n",
    "    aux_s = Function(FunctionSpace_scalar)\n",
    "    aux_s.x.array[:] = s\n",
    "\n",
    "    aux_v = Function(FunctionSpace_vector)\n",
    "    aux_v.x.array[:] = v\n",
    "\n",
    "    if p1:\n",
    "        # Degree 1 Polynomial interpolation\n",
    "        P1 = element(\"Lagrange\", mesh.basix_cell(), 1)\n",
    "        p = Function(functionspace(mesh, P1))\n",
    "        p.interpolate(aux_s)\n",
    "\n",
    "        P2 = element(\"Lagrange\", mesh.basix_cell(), 2, shape=(mesh.geometry.dim,))\n",
    "        u = Function(functionspace(mesh, P2))\n",
    "        u.interpolate(aux_v)\n",
    "        return u, p\n",
    "    else:\n",
    "        return aux_v, aux_s"
   ]
  },
  {
   "cell_type": "code",
   "execution_count": 6,
   "id": "24f4bf8d",
   "metadata": {},
   "outputs": [],
   "source": [
    "# Solve function for a square domain\n",
    "def solve_stokes_evp(n: int, nu: float, target: int, nev: int, tol: float, shift: float, p_null=False):\n",
    "    \"\"\"\n",
    "    Solves the Stokes Eigenvalue problem using SLEPc Generalized Hermitian Eigenvalue Problem Solver (GHEP)\n",
    "    \"\"\"\n",
    "\n",
    "    # mesh\n",
    "    msh = create_rectangle(MPI.COMM_WORLD, [np.array([0,0]), np.array([1,1])],  [n,n],  CellType.triangle)\n",
    "\n",
    "    #---------------------------------------- Function Spaces -----------------------------------------------#\n",
    "    # Taylor-Hood elements\n",
    "    P2 = element(\"Lagrange\", msh.basix_cell(), 2, shape=(msh.geometry.dim,)) # P2 for velocity\n",
    "    P1 = element(\"Lagrange\", msh.basix_cell(), 1) # P1 for pressure\n",
    "\n",
    "    # Mixed formulation\n",
    "    TH = mixed_element([P2, P1])\n",
    "    W = functionspace(msh, TH)\n",
    "    #---------------------------------------------------------------------------------------------------------#\n",
    "\n",
    "\n",
    "    #---------------------------------------- Boundary conditions --------------------------------------------#\n",
    "    W0 = W.sub(0) # Take the part of the mixed functionspace associated with the velicty\n",
    "    V, velocity_dofmap = W0.collapse() # \"new\" functionspace corresponding to the velocity\n",
    "\n",
    "    W1 = W.sub(0) # Same with the pressure\n",
    "    Q, pressure_dofmap = W1.collapse()\n",
    "\n",
    "    # no-slip boundary conditions\n",
    "    noslip = Function(V) # Takes the default value (0,0)\n",
    "    facets = locate_entities_boundary(msh, 1, noslip_boundary) # Identify 1-dim elements given by \"noslip_bundary\"\n",
    "    dofs = locate_dofs_topological((W0, V), 1, facets) # Identify dofs \n",
    "    bc = dirichletbc(noslip, dofs, W0) # Define bc\n",
    "    #---------------------------------------------------------------------------------------------------------#\n",
    "\n",
    "\n",
    "    #-------------------------------------- Formulation & Matrices -------------------------------------------#\n",
    "    # Variational formulation\n",
    "    (u,p) = TrialFunctions(W) \n",
    "    (v,q) = TestFunctions(W) \n",
    "\n",
    "    nu = PETSc.ScalarType(nu)\n",
    "    a = form((nu*inner(grad(u), grad(v)) - inner(div(v), p) + inner(div(u), q))* dx )\n",
    "    m = form(inner(u,v)* dx)\n",
    "\n",
    "    # Assemble matrices\n",
    "    A = assemble_matrix(a, bcs=[bc])\n",
    "    A.assemble()\n",
    "\n",
    "    M = assemble_matrix(m, bcs=[bc])\n",
    "    M.assemble()\n",
    "\n",
    "    if p_null:\n",
    "        p_index = pressure_dofmap[-1]\n",
    "        A, M = pressure_nullmap(A,M,p_index)\n",
    "    #---------------------------------------------------------------------------------------------------------#\n",
    "\n",
    "\n",
    "    #--------------------------------------------- Solution --------------------------------------------------#\n",
    "    eigenvectors, eigenvalues = solve_slepc(A, M, mesh=msh, target=target, nev=nev, tol=tol, eps_shift=shift)\n",
    "\n",
    "    # Reordering from lowest to largest magnitude\n",
    "    total = len(eigenvalues)\n",
    "    eigenvalues_aux = eigenvalues.copy()\n",
    "    eigenvectors_aux = eigenvectors.copy()\n",
    "    for i in range(total):\n",
    "        index = eigenvalues_aux.index(min(eigenvalues_aux))\n",
    "        eigenvalues[i] = eigenvalues_aux.pop(index)\n",
    "        eigenvectors[i] = eigenvectors_aux.pop(index)\n",
    "\n",
    "    # Reordering DoFs\n",
    "    velocity_list = []\n",
    "    pressure_list = []\n",
    "\n",
    "    V, velocity_dofmap = W.sub(0).collapse()\n",
    "    Q, pressure_dofmap = W.sub(1).collapse()\n",
    "\n",
    "    for i in range(total):\n",
    "        vector = eigenvectors[i]\n",
    "        u, p = reorder_eigvec(vector, pressure_dofmap, velocity_dofmap, Q, V, msh)\n",
    "        velocity_list.append(u)\n",
    "        pressure_list.append(p)\n",
    "    #---------------------------------------------------------------------------------------------------------#\n",
    "\n",
    "    return velocity_list, pressure_list, eigenvalues, msh"
   ]
  },
  {
   "cell_type": "markdown",
   "id": "53a55980",
   "metadata": {},
   "source": [
    "## _**Solutions calculations**_"
   ]
  },
  {
   "cell_type": "code",
   "execution_count": 7,
   "id": "58b83a18",
   "metadata": {},
   "outputs": [
    {
     "name": "stdout",
     "output_type": "stream",
     "text": [
      "Calulating solution for n = 8...\n",
      "Solved!\n",
      "Calulating solution for n = 16...\n",
      "Solved!\n",
      "Calulating solution for n = 32...\n",
      "Solved!\n",
      "Calulating solution for n = 64...\n",
      "Solved!\n",
      "Calulating solution for n = 128...\n",
      "Solved!\n"
     ]
    }
   ],
   "source": [
    "# Options\n",
    "total = 5 # Number of solutions\n",
    "o = 3\n",
    "sizes = [2**(i+o) for i in range(total)] # n\n",
    "nu = 1.0\n",
    "target = 128\n",
    "# 52, 92, 92, 128, 154, ...\n",
    "nev = 1\n",
    "tol = 1e-9\n",
    "shift = 1e-9\n",
    "\n",
    "u_h_list = [0 for i in range(total)] # List of List of velocities\n",
    "p_h_list = [0 for i in range(total)] # List of List of pressures\n",
    "eig_h_list = [0 for i in range(total)] # List of List of eigenvalues\n",
    "mesh_list = [0 for i in range(total)] # List of meshes\n",
    "\n",
    "for i in range(total):\n",
    "    n = sizes[i]\n",
    "    print(f\"Calulating solution for n = {n}...\")\n",
    "\n",
    "    u, p, eigenvalues, mesh = solve_stokes_evp(n, nu, target, nev,tol, shift)\n",
    "    u_h_list[i] = u # List of velocities\n",
    "    p_h_list[i] = p # List of pressures\n",
    "    eig_h_list[i] = eigenvalues # List of eigenvalues\n",
    "    mesh_list[i] = mesh # Mesh\n",
    "\n",
    "    print(\"Solved!\")"
   ]
  },
  {
   "cell_type": "markdown",
   "id": "9853f505",
   "metadata": {},
   "source": [
    "Sanity Check"
   ]
  },
  {
   "cell_type": "code",
   "execution_count": 8,
   "id": "fc4a4416",
   "metadata": {},
   "outputs": [],
   "source": [
    "#def save(z,c):\n",
    "#    u = u_h_list[z][c]\n",
    "#    p = p_h_list[z][c]\n",
    "#    msh = mesh_list[z]\n",
    "    # Guardar el archivo de la velocidad\n",
    "#    with XDMFFile(MPI.COMM_WORLD, \"xdmf/evp/slepc/velocity_evp_c.xdmf\", \"w\") as ufile_xdmf:\n",
    "#        ufile_xdmf.write_mesh(msh)\n",
    "#        ufile_xdmf.write_function(u)\n",
    "\n",
    "    # Guardar la presión\n",
    "#    with XDMFFile(MPI.COMM_WORLD, \"xdmf/evp/slepc/pressure_evp_c.xdmf\", \"w\") as pfile_xdmf:\n",
    "#        pfile_xdmf.write_mesh(msh)\n",
    "#        pfile_xdmf.write_function(p)\n",
    "#    return"
   ]
  },
  {
   "cell_type": "markdown",
   "id": "a48f67e3",
   "metadata": {},
   "source": [
    "## _**Error norm Calculations**_"
   ]
  },
  {
   "cell_type": "code",
   "execution_count": 9,
   "id": "c43c317a",
   "metadata": {},
   "outputs": [],
   "source": [
    "def norm(norm_type: str ,u_ex: dolfinx.fem.function.Function, V_ex: dolfinx.fem.function.FunctionSpace, u_h :dolfinx.fem.function.Function, V_h: dolfinx.fem.function.FunctionSpace, cells_fine: np.ndarray):\n",
    "    \"\"\"\n",
    "    Calculates the error norm between a \"exact\" solution and a approximated solution to a \n",
    "    PDE calculated through the FEM given the solutions and their respective functions spaces\n",
    "    \"\"\"\n",
    "    \n",
    "    # ----------------------------- mesh interpolation ----------------------------- #\n",
    "    # Interpolamos la solución aproximada sobre la malla fina\n",
    "    u_h_coarse_to_fine = Function(V_ex)  # Nueva función en la malla fina\n",
    "    interpolation_data = create_interpolation_data(V_ex, V_h, cells_fine)  # Datos para interpolar entre espacios no coincidentes\n",
    "    u_h_coarse_to_fine.interpolate_nonmatching(u_h, cells_fine, interpolation_data=interpolation_data)  # Interpolación\n",
    "    u_h_coarse_to_fine.x.scatter_forward()  # Sincroniza datos entre procesos\n",
    "    # ------------------------------------------------------------------------------ #\n",
    "\n",
    "\n",
    "    # ------------------------------ Error ------------------------------ #\n",
    "    dot_product_p = np.dot(u_ex.x.array, u_h_coarse_to_fine.x.array)\n",
    "    if dot_product_p < 0:\n",
    "        u_h_coarse_to_fine.x.array[:] *= -1\n",
    "    e = u_ex - u_h_coarse_to_fine\n",
    "\n",
    "    # If scalar (pressure), subtract mean before error calculation\n",
    "    if str(u_ex.function_space.ufl_element()) == \"Basix element (P, triangle, 1, gll_warped, unset, False, float64, [])\":  # Scalar field\n",
    "        u_ex.x.array[:] -= np.mean(u_ex.x.array)\n",
    "        u_h_coarse_to_fine.x.array[:] -= np.mean(u_h_coarse_to_fine.x.array)\n",
    "        \n",
    "    if norm_type == \"L2\":\n",
    "        error = form((inner(e,e))* dx) # Formamos la integral\n",
    "        error_local = assemble_scalar(error) # calculamos la integral\n",
    "        return np.sqrt(V_ex.mesh.comm.allreduce(error_local, op=MPI.SUM)) # Sumamos los errores en cada punto\n",
    "\n",
    "    elif norm_type == \"H1\":\n",
    "        error = form((inner(e,e) + inner(grad(e),grad(e)))* dx) # Formamos la integral\n",
    "        error_local = assemble_scalar(error) # calculamos la integral\n",
    "        return np.sqrt(V_ex.mesh.comm.allreduce(error_local, op=MPI.SUM)) # Sumamos los errores en cada punto\n",
    "     # ------------------------------------------------------------------- #"
   ]
  },
  {
   "cell_type": "code",
   "execution_count": 10,
   "id": "659344b0",
   "metadata": {},
   "outputs": [],
   "source": [
    "# \"exact\" solution functionspace\n",
    "N = 0\n",
    "u_ex = u_h_list[-1][N]\n",
    "p_ex = p_h_list[-1][N]\n",
    "eig_ex = eig_h_list[-1][N]\n",
    "\n",
    "V_ex = u_ex.function_space\n",
    "Q_ex = p_ex.function_space\n",
    "\n",
    "# Interpolation Data for error norm calculation\n",
    "# Velocity\n",
    "cells_fine_map = V_ex.mesh.topology.index_map(V_ex.mesh.topology.dim)\n",
    "num_cells_on_proc_fine = cells_fine_map.size_local + cells_fine_map.num_ghosts\n",
    "cells_fine_u = np.arange(num_cells_on_proc_fine, dtype=np.int32)\n",
    "\n",
    "# Pressure\n",
    "cells_fine_map = Q_ex.mesh.topology.index_map(Q_ex.mesh.topology.dim)\n",
    "num_cells_on_proc_fine = cells_fine_map.size_local + cells_fine_map.num_ghosts\n",
    "cells_fine_p = np.arange(num_cells_on_proc_fine, dtype=np.int32)\n",
    "\n",
    "total = len(mesh_list) - 1\n",
    "\n",
    "h = np.array([1/n for n in sizes][:total])"
   ]
  },
  {
   "cell_type": "markdown",
   "id": "bd4e4ef0",
   "metadata": {},
   "source": [
    "## _**Convergence**_"
   ]
  },
  {
   "cell_type": "markdown",
   "id": "fe528ea1",
   "metadata": {},
   "source": [
    "### _**Velocity**_"
   ]
  },
  {
   "cell_type": "markdown",
   "id": "2a0d6f48",
   "metadata": {},
   "source": [
    "#### _L2 Error_"
   ]
  },
  {
   "cell_type": "code",
   "execution_count": 11,
   "id": "43d8e5f1",
   "metadata": {},
   "outputs": [],
   "source": [
    "norm_type = \"L2\"\n",
    "error_L2_u = np.array([0. for i in range(total)])\n",
    "\n",
    "for i in range(total): # N° meshes\n",
    "\n",
    "    # N-indexed eigenvectors from the ith mesh\n",
    "    u_h = u_h_list[i][N]\n",
    "    V_h = u_h.function_space\n",
    "        \n",
    "    error_L2_u[i] = norm(norm_type,u_ex, V_ex, u_h, V_h, cells_fine_u)"
   ]
  },
  {
   "cell_type": "code",
   "execution_count": 12,
   "id": "02499723",
   "metadata": {},
   "outputs": [
    {
     "name": "stdout",
     "output_type": "stream",
     "text": [
      "4\n"
     ]
    }
   ],
   "source": [
    "print(len(error_L2_u))"
   ]
  },
  {
   "cell_type": "code",
   "execution_count": 13,
   "id": "d5485aed",
   "metadata": {},
   "outputs": [],
   "source": [
    "order = 3\n",
    "x_ref = 1/h[:total]\n",
    "y0 = error_L2_u[-2]\n",
    "x0 = x_ref[-2]\n",
    "asintota = y0 * (x_ref/x0)**(-order)"
   ]
  },
  {
   "cell_type": "code",
   "execution_count": 14,
   "id": "4aacc5d8",
   "metadata": {},
   "outputs": [
    {
     "data": {
      "image/png": "[encoded data removed]",
      "text/plain": [
       "<Figure size 640x480 with 1 Axes>"
      ]
     },
     "metadata": {},
     "output_type": "display_data"
    }
   ],
   "source": [
    "import matplotlib.pyplot as plt\n",
    "\n",
    "plt.loglog(1/h[:total], error_L2_u, \"o-\", label= \"||u_ex - u_h||\")\n",
    "plt.loglog(x_ref, asintota, \"r*--\", label=f\"O(h^{order})\")\n",
    "plt.legend(loc=\"upper right\")\n",
    "plt.title(f\"{norm_type} Error for velocity\")\n",
    "plt.xlabel(\"1/h\")\n",
    "plt.ylabel(\"Error\")\n",
    "plt.show()"
   ]
  },
  {
   "cell_type": "code",
   "execution_count": 15,
   "id": "8e02c224",
   "metadata": {},
   "outputs": [
    {
     "name": "stdout",
     "output_type": "stream",
     "text": [
      "Tasa de convergencia en la norma L2 = 3.011199404242885\n"
     ]
    }
   ],
   "source": [
    "Slope, intercept = np.polyfit(np.log(1/h[:total]), np.log(error_L2_u[:]), 1)\n",
    "print(f\"Tasa de convergencia en la norma {norm_type} = {-Slope}\")"
   ]
  },
  {
   "cell_type": "markdown",
   "id": "256df0a2",
   "metadata": {},
   "source": [
    "#### _H1 error_"
   ]
  },
  {
   "cell_type": "code",
   "execution_count": 16,
   "id": "4bea1e08",
   "metadata": {},
   "outputs": [],
   "source": [
    "norm_type = \"H1\"\n",
    "error_H1_u = np.array([0. for i in range(total)])\n",
    "\n",
    "for i in range(total): # N° meshes\n",
    "\n",
    "    # N-indexed eigenvectors from the ith mesh\n",
    "    u_h = u_h_list[i][N]\n",
    "    V_h = u_h.function_space\n",
    "\n",
    "    error_H1_u[i] = norm(norm_type,u_ex, V_ex, u_h, V_h, cells_fine_u)"
   ]
  },
  {
   "cell_type": "code",
   "execution_count": 17,
   "id": "e469c95e",
   "metadata": {},
   "outputs": [],
   "source": [
    "order = 2\n",
    "x_ref = 1/h[:total]\n",
    "y0 = error_H1_u[-2]\n",
    "x0 = x_ref[-2]\n",
    "asintota = y0 * (x_ref/x0)**(-order)"
   ]
  },
  {
   "cell_type": "code",
   "execution_count": 18,
   "id": "c41ad822",
   "metadata": {},
   "outputs": [
    {
     "data": {
      "image/png": "[encoded data removed]",
      "text/plain": [
       "<Figure size 640x480 with 1 Axes>"
      ]
     },
     "metadata": {},
     "output_type": "display_data"
    }
   ],
   "source": [
    "plt.loglog(1/h[:total], error_H1_u, \"o-\", label= \"||u_ex - u_h||\")\n",
    "plt.loglog(x_ref, asintota, \"r*--\", label=f\"O(h^{order})\")\n",
    "plt.legend(loc=\"upper right\")\n",
    "plt.title(f\"{norm_type} Error for velocity\")\n",
    "plt.xlabel(\"1/h\")\n",
    "plt.ylabel(\"Error\")\n",
    "plt.show()"
   ]
  },
  {
   "cell_type": "code",
   "execution_count": 19,
   "id": "8987b68d",
   "metadata": {},
   "outputs": [
    {
     "name": "stdout",
     "output_type": "stream",
     "text": [
      "Tasa de convergencia en la norma H1 = 1.9798496372779368\n"
     ]
    }
   ],
   "source": [
    "Slope, intercept = np.polyfit(np.log(1/h[:total]), np.log(error_H1_u[:]), 1)\n",
    "print(f\"Tasa de convergencia en la norma {norm_type} = {-Slope}\")"
   ]
  },
  {
   "cell_type": "markdown",
   "id": "78a36387",
   "metadata": {},
   "source": [
    "### _**Pressure**_"
   ]
  },
  {
   "cell_type": "code",
   "execution_count": 20,
   "id": "c11e1e33",
   "metadata": {},
   "outputs": [],
   "source": [
    "# Interpolamos cada solución sobre la malla fina\n",
    "norm_type = \"L2\"\n",
    "error_L2_p = np.array([0. for i in range(total)])\n",
    "\n",
    "for i in range(total):\n",
    "\n",
    "    # N-indexed eigenvectors from the ith mesh\n",
    "    p_h = p_h_list[i][N]\n",
    "    Q_h = p_h.function_space\n",
    "    error_L2_p[i] = norm(norm_type,p_ex, Q_ex, p_h, Q_h, cells_fine_p)"
   ]
  },
  {
   "cell_type": "code",
   "execution_count": 21,
   "id": "c5f2b2d2",
   "metadata": {},
   "outputs": [],
   "source": [
    "order = 2\n",
    "x_ref = 1/h[:total]\n",
    "y0 = error_L2_p[-2]\n",
    "x0 = x_ref[-2]\n",
    "asintota = y0 * (x_ref/x0)**(-order) "
   ]
  },
  {
   "cell_type": "code",
   "execution_count": 22,
   "id": "7c63abad",
   "metadata": {},
   "outputs": [
    {
     "data": {
      "image/png": "[encoded data removed]",
      "text/plain": [
       "<Figure size 640x480 with 1 Axes>"
      ]
     },
     "metadata": {},
     "output_type": "display_data"
    }
   ],
   "source": [
    "plt.loglog(1/h[:total], error_L2_p, \"o-\", label= \"||p_ex - p_h||\")\n",
    "plt.loglog(x_ref, asintota, \"r*--\", label=f\"O(h^{order})\")\n",
    "plt.legend(loc=\"upper right\")\n",
    "plt.title(f\"{norm_type} Error for pressure\")\n",
    "plt.xlabel(\"1/h\")\n",
    "plt.ylabel(\"Error\")\n",
    "plt.show()"
   ]
  },
  {
   "cell_type": "code",
   "execution_count": 23,
   "id": "32541f92",
   "metadata": {},
   "outputs": [
    {
     "name": "stdout",
     "output_type": "stream",
     "text": [
      "Tasa de convergencia en la norma L2 = 2.0467120938909398\n"
     ]
    }
   ],
   "source": [
    "Slope, intercept = np.polyfit(np.log(1/h[:total]), np.log(error_L2_p[:]), 1)\n",
    "print(f\"Tasa de convergencia en la norma {norm_type} = {-Slope}\")"
   ]
  },
  {
   "cell_type": "markdown",
   "id": "c118ba9d",
   "metadata": {},
   "source": [
    "### _**Eigenvalues**_"
   ]
  },
  {
   "cell_type": "code",
   "execution_count": 24,
   "id": "9286accc",
   "metadata": {},
   "outputs": [],
   "source": [
    "error_eig = np.array([0. for i in range(total)])\n",
    "\n",
    "for i in range(total):\n",
    "    eig_h = eig_h_list[i][N]\n",
    "    error_eig[i] = abs(eig_ex - eig_h)/abs(eig_ex)"
   ]
  },
  {
   "cell_type": "code",
   "execution_count": 25,
   "id": "50f5db94",
   "metadata": {},
   "outputs": [],
   "source": [
    "order = 4\n",
    "x_ref = 1/h[:total]\n",
    "y0 = error_eig[-2]\n",
    "x0 = x_ref[-2]\n",
    "asintota = y0 * (x_ref/x0)**(-order) "
   ]
  },
  {
   "cell_type": "code",
   "execution_count": 26,
   "id": "38d53c20",
   "metadata": {},
   "outputs": [
    {
     "data": {
      "image/png": "[encoded data removed]",
      "text/plain": [
       "<Figure size 640x480 with 1 Axes>"
      ]
     },
     "metadata": {},
     "output_type": "display_data"
    }
   ],
   "source": [
    "plt.loglog(1/h[:total], error_eig, \"o-\", label= \"|eig_ex - eig_h|/|eig_ex|\")\n",
    "plt.loglog(x_ref, asintota, \"r*--\", label=f\"O(h^{order})\")\n",
    "plt.legend(loc=\"upper right\")\n",
    "plt.title(f\"Absolute error for eigenvalue = {round(eig_ex,3)}\")\n",
    "plt.xlabel(\"1/h\")\n",
    "plt.ylabel(\"Error\")\n",
    "plt.show()"
   ]
  },
  {
   "cell_type": "code",
   "execution_count": 27,
   "id": "a12fffab",
   "metadata": {},
   "outputs": [
    {
     "name": "stdout",
     "output_type": "stream",
     "text": [
      "Tasa de convergencia en la norma L2 = 3.6014508150367193\n"
     ]
    }
   ],
   "source": [
    "Slope, intercept = np.polyfit(np.log(1/h[:total]), np.log(error_eig[:]), 1)\n",
    "print(f\"Tasa de convergencia en la norma {norm_type} = {-Slope}\")"
   ]
  },
  {
   "cell_type": "code",
   "execution_count": 28,
   "id": "f490bf82",
   "metadata": {},
   "outputs": [
    {
     "name": "stdout",
     "output_type": "stream",
     "text": [
      "[[129.3491186377653], [128.2937771836594], [128.21514276927235], [128.20981915993664], [128.20914874515006]]\n"
     ]
    }
   ],
   "source": [
    "print(eig_h_list)"
   ]
  },
  {
   "cell_type": "code",
   "execution_count": null,
   "id": "1288001f",
   "metadata": {},
   "outputs": [],
   "source": []
  }
 ],
 "metadata": {
  "kernelspec": {
   "display_name": "fenicsx-env",
   "language": "python",
   "name": "python3"
  },
  "language_info": {
   "codemirror_mode": {
    "name": "ipython",
    "version": 3
   },
   "file_extension": ".py",
   "mimetype": "text/x-python",
   "name": "python",
   "nbconvert_exporter": "python",
   "pygments_lexer": "ipython3",
   "version": "3.13.2"
  }
 },
 "nbformat": 4,
 "nbformat_minor": 5
}
