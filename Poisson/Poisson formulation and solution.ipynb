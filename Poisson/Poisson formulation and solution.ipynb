{
 "cells": [
  {
   "cell_type": "markdown",
   "id": "b242d15a-2534-476b-ab62-7702e5a51bb3",
   "metadata": {},
   "source": [
    "The next notebook its based on the [FeniCS Tutorial 1.0 documentation](https://home.simula.no/~hpl/homepage/fenics-tutorial/release-1.0-nonabla/webm/fundamentals.html)"
   ]
  },
  {
   "cell_type": "markdown",
   "id": "cc73c8de-53b1-44cf-9e56-cbbe783edcf4",
   "metadata": {},
   "source": [
    "We are trying to solve the diferential equation\n",
    "$$ -\\nabla^2 U(y,z) = R_e \\partial_x P = C ; \\ y,z \\text{ in } \\Omega$$\n",
    "$$ U(y,z) = U_0 ; \\ y,z \\text{ on } \\partial \\Omega$$\n",
    "for $C$ a constant, $U_0$ a boundary value condition and $\\Omega$ the space (cross section of a tube) with $\\partial \\Omega$ its boundary. \n",
    "\n",
    "This equation is called a [Poisson equation](https://en.wikipedia.org/wiki/Poisson%27s_equation) and the boundary condition called the [Dirichlet boundary condition](https://en.wikipedia.org/wiki/Dirichlet_boundary_condition).\n",
    "\n",
    "Let's solve it (aproximate U) for $C = 1$, $U_0 = 0$ and $\\Omega = [0,1] \\times [0,1]$"
   ]
  },
  {
   "cell_type": "markdown",
   "id": "821123ec-2f56-4ca3-a6a6-fe165dccc10d",
   "metadata": {},
   "source": [
    "The way for solving this diferential equation is trough the finite element method ([FEM](https://en.wikipedia.org/wiki/Finite_element_method)).\n",
    "We need to turn the PDE problem to a variatonal problem by mutiplying the equation by a function V that we call _**test function**_.\n",
    "$$ -\\nabla^2 U \\cdot V = C \\cdot V$$\n",
    "\n",
    "\n",
    "Then we integrate the equation over $\\Omega$\n",
    "$$ -\\int_\\Omega \\nabla^2 U \\cdot V d \\Omega = \\int_\\Omega C \\cdot V d\\Omega$$\n",
    "\n",
    "Now, by applying integration by parts on the left side (or [Green's first identity](https://en.wikipedia.org/wiki/Green%27s_identities)) we get\n",
    "$$ -\\int_\\Omega \\nabla^2 U \\cdot V d\\Omega = \\int_\\Omega \\nabla U \\cdot \\nabla V d\\Omega - \\int_{\\partial \\Omega} V \\cdot \\nabla U \\cdot \\hat{n} \\ d\\partial \\Omega $$\n",
    "\n",
    "The test function is required to vanish on the parts of the boundary (for convinience) where $U$ is known, implying that $V = 0$ on the whole boundary $\\partial \\Omega$, deleting the second integral and letting us with\n",
    "$$ \\int_\\Omega \\nabla U \\cdot \\nabla V d\\Omega = \\int_\\Omega C \\cdot V d\\Omega$$"
   ]
  },
  {
   "cell_type": "markdown",
   "id": "7b22a220-d39f-496e-95a0-1d4df7e4ff2e",
   "metadata": {},
   "source": [
    "This equation is suposed to hold for hold for all $V$ in some function space $\\hat{T}$. The function we are trying to aproximate is called _**trial function**_, and lies in some (possibly different) function space $T$. We say that the last equation is the _[**weak form**](https://en.wikipedia.org/wiki/Weak_formulation)_ of the original boundary value problem. It's called like this because it imposes less restrictive conditions for the solution that we can find for U (doesn't have to be 2 times diferentiable).\n",
    "\n",
    "The proper statement of our variational problem now goes as follows: Find $U \\in T$ such that\n",
    "$$ \\int_\\Omega \\nabla U \\cdot \\nabla V d\\Omega = \\int_\\Omega C \\cdot V d\\Omega \\ ; \\ \\forall V \\in \\hat{T} $$\n",
    "The test and trial spaces $T$ and $\\hat{T}$ are in the present problem defined as\n",
    "$$ \\hat{T} = \\{t \\in H^1(\\Omega): t = 0 \\text{ on } \\partial \\Omega\\}$$\n",
    "$$ T = \\{t \\in H^1(\\Omega): t = U_0 \\text{ on } \\partial \\Omega\\}$$\n",
    "\n",
    "Here $H^1(\\Omega)$ is the [Sobolev space](https://en.wikipedia.org/wiki/Sobolev_space) containing functions $V$ such that $V^2$ and $ ||\\nabla V||^2$ have finite integrals over $\\Omega$. The solution of the underlying PDE must lie in a function space where also the derivatives are continuous, but the Sobolev space allows functions with discontinuous derivatives. This weaker continuity requirement of $U$ in the variational statement, caused by the integration by parts, has great practical consequences when it comes to constructing finite elements."
   ]
  },
  {
   "cell_type": "markdown",
   "id": "16f92efc-71fe-4101-bef9-6c129f9367ca",
   "metadata": {},
   "source": [
    "---\n",
    "\n",
    "It turns out to be convenient to introduce the following unified notation for linear weak forms:\n",
    "$$ a(u,v) = L(v) $$\n",
    "In the present problem we have that\n",
    "$$ a(U,V) = \\int_\\Omega \\nabla U \\cdot \\nabla V d\\Omega $$ \n",
    "$$ L(V) = \\int_\\Omega C \\cdot V d\\Omega$$\n",
    "\n",
    "From the mathematics literature, $a(U,V)$ is known as a [_bilinear form_](https://en.wikipedia.org/wiki/Bilinear_form) and $L(V)$ as a [_linear form_](https://en.wikipedia.org/wiki/Linear_form).\n",
    "\n",
    "---"
   ]
  },
  {
   "cell_type": "markdown",
   "id": "2447309f-f8bf-47e4-97d3-eee1b1731166",
   "metadata": {},
   "source": [
    "*DISCRETIZATION*\n",
    "\n",
    "To solve the equation numerically, we need to transform the continuous variational problem to a discrete variational problem. This is done by introducing _finite-dimensional_ test and trial spaces, often denoted as $\\hat{T_h} \\subset \\hat{T}$ and $T_h \\subset T$ (discrete spaces). The discrete variational problem reads: Find $U_h \\in T_h \\subset T$ such that\n",
    "$$ \\int_\\Omega \\nabla U_h \\cdot \\nabla V_h \\ d\\Omega = \\int_\\Omega C \\cdot V_h d\\Omega \\ ; \\ \\forall V_h \\in \\hat{T_h} \\subset \\hat{T} $$\n",
    "\n",
    "The choice of the discrete spaces follows directly from the kind of finite elements we want to apply in our problem.\n",
    "\n",
    "\n",
    "In most cases, we will introduce the PDE problem with $u$ as unknown, derive a variational equation $a(u,v) =  L(v)$ with $u \\in V$ and $v \\in \\hat{V}$, and then simply discretize the problem by saying that we choose _finite-dimensional_ spaces for $V$ and $\\hat{V}$. This restriction of $V$ implies that $u$ becomes a discrete finite element function. In practice, this means that we turn our PDE problem into a continuous variational problem, create a mesh and specify an element type, and the let $V$ correspond to this mesh and element choice. Depending upon whether $V$ is infinite or finite-dimensional, $u$ will be the exact or approximate solution."
   ]
  },
  {
   "cell_type": "markdown",
   "id": "ffae8ded-f75a-4ebb-93c8-fd79c5e5c99d",
   "metadata": {},
   "source": [
    "The idea behind this method is to appriximate the functions in the trial spaces as linear combination of a finite collection of functions from the test space. The finer the triangulation of the domain, the better approximation is going to be. \n",
    "\n",
    "To do this, we say that we can express $U_h$ as a (linear) combination of known functions, i.e. $U_h = \\sum_{i=1}^N \\alpha_i U_i $, with $\\alpha_i$ constants (weights) and $\\{U_i\\}_{i=1}^N$ a base of functions for the trial space (like Lagrange or Hermite Polynomials). This are known as _degrees of freedom_ of $U$.* It is also convinient to have this functions so that then when we have to compute the integrals via other linear equations, the matrices that dictates them are sparse. We do the same with $V_h$ and then we have the next system:\n",
    "\n",
    "$$ \n",
    "\\int_\\Omega \\nabla \\left(\\sum_{i=1}^N \\alpha_i U_i \\right) d\\Omega \\cdot \\nabla \\left( \\sum_{j=1}^N \\beta_j U_j\\right) d\\Omega = \\int_\\Omega C \\cdot \\sum_{j=1}^N \\beta_j U_j\n",
    "$$\n",
    "$$\n",
    "\\sum_{i=1}^N \\sum_{j=1}^N \\alpha_i \\beta_j \\int_\\Omega \\nabla U_i \\cdot \\nabla U_j \\ d\\Omega = \\sum_{j=1}^N \\beta_j \\int_\\Omega C \\cdot U_j d\\Omega\n",
    "$$\n",
    "\n",
    "Lastly, we can re-write the expressions\n",
    "$$\n",
    "\\vec{\\alpha} = \\begin{bmatrix} \\alpha_1 \\\\ \\alpha_2 \\\\ \\vdots \\\\ \\alpha_N \\end{bmatrix} \\ ,\n",
    "\\vec{\\beta} = \\begin{bmatrix} \\beta_1 \\\\ \\beta_2 \\\\ \\vdots \\\\ \\beta_N \\end{bmatrix} \\ ,\n",
    "A_{ij} = \\int_\\Omega \\nabla U_i \\cdot \\nabla U_j \\ d\\Omega \\ ,\n",
    "\\vec{f} = \\begin{bmatrix} C \\cdot \\int_\\Omega U_1 d\\Omega\\\\ C \\cdot \\int_\\Omega U_2 d\\Omega\\\\ \\vdots \\\\ C \\cdot\\int_\\Omega U_N d\\Omega\\end{bmatrix}\n",
    "$$\n",
    "\n",
    "And we have the matrix equation\n",
    "$$\n",
    "\\vec{\\beta}^T A \\vec{\\alpha} = \\vec{\\beta}^T \\vec{f}\n",
    "$$\n",
    "$$\n",
    "A \\vec{\\alpha} = \\vec{f}\n",
    "$$\n",
    "where we want to solve for the vector of coeffitients $\\vec{\\alpha}$"
   ]
  },
  {
   "cell_type": "markdown",
   "id": "211b8506",
   "metadata": {},
   "source": [
    "Libraries"
   ]
  },
  {
   "cell_type": "code",
   "execution_count": 1,
   "id": "03aad39f",
   "metadata": {},
   "outputs": [],
   "source": [
    "from mpi4py import MPI # Message Passing Interface.\n",
    "from petsc4py import PETSc # Library for solving PDE's assosiated linear problems\n",
    "# Is an standar for different libraries to function properly and with high performance\n",
    "import dolfinx # FeniCSx Interface\n",
    "import numpy as np # Numpy, the classic\n",
    "from petsc4py.PETSc import ScalarType\n",
    "\n",
    "import ufl\n",
    "from basix.ufl import element, mixed_element # Elements for the FEM\n",
    "from dolfinx import default_real_type, fem, la # FEM library with the functions required for solving through FEM (for real values)\n",
    "from dolfinx.fem import (\n",
    "    Constant,\n",
    "    Function,\n",
    "    dirichletbc,\n",
    "    extract_function_spaces,\n",
    "    form,\n",
    "    functionspace,\n",
    "    locate_dofs_topological,\n",
    ") # Functions for defining variational problems and defining mathematical functions and constants\n",
    "from dolfinx.fem.petsc import assemble_matrix, assemble_vector, apply_lifting, LinearProblem # Functions for creating the matrix problems\n",
    "from dolfinx.io import XDMFFile\n",
    "from dolfinx.mesh import CellType, create_rectangle, locate_entities_boundary# Mesh creating functions\n",
    "from ufl import div, dx, grad, inner, TrialFunction, TestFunction # operand functions"
   ]
  },
  {
   "cell_type": "markdown",
   "id": "584774cd",
   "metadata": {},
   "source": [
    "Malla"
   ]
  },
  {
   "cell_type": "code",
   "execution_count": 2,
   "id": "a86f1a84",
   "metadata": {},
   "outputs": [],
   "source": [
    "n = 128 # N° of divisions on each direction of the domain (x and y)\n",
    "\n",
    "Heart = False\n",
    "Circle = False\n",
    "if Heart:\n",
    "    msh, cell_tags, facet_tags = dolfinx.io.gmshio.read_from_msh(\"Meshes/Heart_mesh.msh\", MPI.COMM_SELF, gdim=2)\n",
    "elif Circle:\n",
    "    msh, cell_tags, facet_tags = dolfinx.io.gmshio.read_from_msh(\"Meshes/Circle_mesh.msh\", MPI.COMM_SELF, gdim=2)\n",
    "else:\n",
    "    msh = create_rectangle(MPI.COMM_WORLD, [np.array([0,0]), np.array([1,1])],  [n,n],  CellType.triangle)\n"
   ]
  },
  {
   "cell_type": "code",
   "execution_count": 3,
   "id": "02364cb5",
   "metadata": {},
   "outputs": [],
   "source": [
    "V = functionspace(msh, (\"Lagrange\", 1))"
   ]
  },
  {
   "cell_type": "markdown",
   "id": "cd2a4749",
   "metadata": {},
   "source": [
    "Identificar borde para aplicar condiciones"
   ]
  },
  {
   "cell_type": "code",
   "execution_count": null,
   "id": "022aae97",
   "metadata": {},
   "outputs": [],
   "source": [
    "def noslip_boundary(x):\n",
    "    # Given a point x, returns True if its coordinate x[i] is near the square boundary\n",
    "    return np.isclose(x[0], 0.0) | np.isclose(x[0], 1.0) | np.isclose(x[1], 0.0) | np.isclose(x[1], 1.0)"
   ]
  },
  {
   "cell_type": "code",
   "execution_count": 5,
   "id": "fcd849cf",
   "metadata": {},
   "outputs": [],
   "source": [
    "if Heart:\n",
    "    facets = facet_tags.indices[facet_tags.values == 12]\n",
    "elif Circle:\n",
    "    facets = facet_tags.indices[facet_tags.values == 2]\n",
    "else:\n",
    "    facets = locate_entities_boundary(msh,1, noslip_boundary)\n",
    "noslip = Function(V)\n",
    "dofs = locate_dofs_topological(V, 1,facets)\n",
    "bc = dirichletbc(noslip, dofs)"
   ]
  },
  {
   "cell_type": "code",
   "execution_count": 6,
   "id": "151c5a4d",
   "metadata": {},
   "outputs": [],
   "source": [
    "u = TrialFunction(V)\n",
    "v = TestFunction(V)\n",
    "c = 5\n",
    "f = Constant(msh, ScalarType(c))\n",
    "\n",
    "a = form(inner(grad(u), grad(v)) *dx)\n",
    "L = form(inner(f, v) * dx)"
   ]
  },
  {
   "cell_type": "code",
   "execution_count": 7,
   "id": "c7da83dd",
   "metadata": {},
   "outputs": [],
   "source": [
    "A = assemble_matrix(a, bcs=[bc])\n",
    "A.assemble()\n",
    "\n",
    "b = assemble_vector(L)\n",
    "\n",
    "# \"Ajustamos\" b para que se mantenga la igualad Ax = b luego de aplicarle las bcs a A\n",
    "apply_lifting(b, [a], bcs=[[bc]])\n",
    "\n",
    "# Sincroniza los \"Ghost values\" usados para la computación paralela\n",
    "b.ghostUpdate(addv=PETSc.InsertMode.ADD, mode=PETSc.ScatterMode.REVERSE)\n",
    "\n",
    "# Aplicamos las condiciones de borde a b\n",
    "bc.set(b)"
   ]
  },
  {
   "cell_type": "code",
   "execution_count": 9,
   "id": "1974de4e",
   "metadata": {},
   "outputs": [],
   "source": [
    "# Configuramos el solver (Krylov Subspace method)\n",
    "ksp = PETSc.KSP().create(msh.comm) \n",
    "ksp.setOperators(A) # Define la matriz A del sistema\n",
    "\n",
    "pc = ksp.getPC() # Precondicionador de ksp\n",
    "pc.setType(\"lu\") # El preocondicionador a usar (de LU)\n",
    "\n",
    "pc.setFactorSolverType(\"superlu_dist\") # Establece el tipo de solver para calcular el precondicionador/factorización\n",
    "vel = Function(V)\n",
    "ksp.solve(b, vel.x.petsc_vec)"
   ]
  },
  {
   "cell_type": "code",
   "execution_count": 10,
   "id": "0edba6ba",
   "metadata": {},
   "outputs": [],
   "source": [
    "from dolfinx.io import VTKFile\n",
    "\n",
    "# Guardar el archivo de la velocidad\n",
    "if Heart:\n",
    "    with VTKFile(msh.comm, \"Heart_poisson.vtu\", \"w\") as vtk:\n",
    "        vtk.write_function(vel)\n",
    "elif Circle:\n",
    "    with VTKFile(msh.comm, \"Circle_poisson.vtu\", \"w\") as vtk:\n",
    "        vtk.write_function(vel)\n",
    "else:\n",
    "    with VTKFile(msh.comm, \"Square_poisson.vtu\", \"w\") as vtk:\n",
    "        vtk.write_function(vel)"
   ]
  }
 ],
 "metadata": {
  "kernelspec": {
   "display_name": "fenicsx-env",
   "language": "python",
   "name": "python3"
  },
  "language_info": {
   "codemirror_mode": {
    "name": "ipython",
    "version": 3
   },
   "file_extension": ".py",
   "mimetype": "text/x-python",
   "name": "python",
   "nbconvert_exporter": "python",
   "pygments_lexer": "ipython3",
   "version": "3.13.2"
  }
 },
 "nbformat": 4,
 "nbformat_minor": 5
}
