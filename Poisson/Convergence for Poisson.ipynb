{
 "cells": [
  {
   "cell_type": "markdown",
   "id": "ce8841b9",
   "metadata": {},
   "source": [
    "# _**Convergence for the Poisson stationary flow**_"
   ]
  },
  {
   "cell_type": "markdown",
   "id": "c5faa14c",
   "metadata": {},
   "source": [
    "### _Libraries_"
   ]
  },
  {
   "cell_type": "code",
   "execution_count": 1,
   "id": "4a3e0807",
   "metadata": {},
   "outputs": [],
   "source": [
    "from mpi4py import MPI # Message Passing Interface.\n",
    "from petsc4py import PETSc # Library for solving PDE's assosiated linear problems\n",
    "# Is an standar for different libraries to function properly and with high performance\n",
    "import dolfinx # FeniCSx Interface\n",
    "import numpy as np # Numpy, the classic\n",
    "from petsc4py.PETSc import ScalarType\n",
    "\n",
    "import ufl\n",
    "from basix.ufl import element, mixed_element # Elements for the FEM\n",
    "from dolfinx import default_real_type, fem, la # FEM library with the functions required for solving through FEM (for real values)\n",
    "from dolfinx.fem import (\n",
    "    Constant,\n",
    "    Function,\n",
    "    dirichletbc,\n",
    "    extract_function_spaces,\n",
    "    form,\n",
    "    functionspace,\n",
    "    create_interpolation_data,\n",
    "    locate_dofs_topological,\n",
    "    assemble_scalar,\n",
    ") # Functions for defining variational problems and defining mathematical functions and constants\n",
    "from dolfinx.fem.petsc import assemble_matrix, assemble_vector, apply_lifting, LinearProblem # Functions for creating the matrix problems\n",
    "from dolfinx.io import XDMFFile\n",
    "from dolfinx.mesh import CellType, create_rectangle, locate_entities_boundary # Mesh creating functions\n",
    "from ufl import div, dx, grad, inner, TrialFunction, TestFunction # operand functions"
   ]
  },
  {
   "cell_type": "markdown",
   "id": "dd945573",
   "metadata": {},
   "source": [
    "Forma variacional\n",
    "$$ \\int_\\Omega \\nabla U \\cdot \\nabla V d\\Omega = \\int_\\Omega C \\cdot V d\\Omega \\ ; \\ \\forall V \\in \\hat{T} $$"
   ]
  },
  {
   "cell_type": "markdown",
   "id": "e2034fa1",
   "metadata": {},
   "source": [
    "### _Malla y solución_"
   ]
  },
  {
   "cell_type": "code",
   "execution_count": 2,
   "id": "85d2e685",
   "metadata": {},
   "outputs": [],
   "source": [
    "# Square mesh creating function\n",
    "def square_mesh(n):\n",
    "    \"\"\"\n",
    "    Creates a square mesh given n, the number of divisions in each directions\n",
    "    \"\"\"\n",
    "    return create_rectangle(MPI.COMM_WORLD, [np.array([0,0]), np.array([1,1])], [n,n], CellType.triangle)"
   ]
  },
  {
   "cell_type": "code",
   "execution_count": 3,
   "id": "fa86a343",
   "metadata": {},
   "outputs": [],
   "source": [
    "# Circle mesh creating function\n",
    "def circle_mesh(n):\n",
    "    \"\"\"\n",
    "    Creates a circle mesh given n. Uses a resolution given by 1/n for a gmsh created mesh\n",
    "    \"\"\"\n",
    "    h = 1/n\n",
    "    k = list(str(h))\n",
    "    k.pop(1)\n",
    "    num = \"\".join(k)\n",
    "    msh, cell_tags, facet_tags = dolfinx.io.gmshio.read_from_msh(\"Meshes/Circle_mesh\" + num + \".msh\", MPI.COMM_SELF, gdim=2)\n",
    "    return msh, cell_tags, facet_tags"
   ]
  },
  {
   "cell_type": "code",
   "execution_count": 4,
   "id": "c9aa1712",
   "metadata": {},
   "outputs": [],
   "source": [
    "# no-slip function\n",
    "def noslip_boundary(x):\n",
    "    return np.isclose(x[0], 0.0) | np.isclose(x[0], 1.0) | np.isclose(x[1], 0.0) | np.isclose(x[1], 1.0)"
   ]
  },
  {
   "cell_type": "code",
   "execution_count": 5,
   "id": "4090952d",
   "metadata": {},
   "outputs": [],
   "source": [
    "# Solution function\n",
    "def solution(n, domain, c, elem=\"Lagrange\"):\n",
    "    \"\"\"\n",
    "    Calculates the solution for the Poisson equation with no-slip boundary condition in all boundaries\n",
    "    given a mesh and an optional element for the velocity functionspace.\n",
    "\n",
    "    Args:\n",
    "        n: number of divisions of the mesh boundary\n",
    "        domain: type of domain\n",
    "            Square or Circle are available\n",
    "        c: Constant value of the right side of the PDE\n",
    "        elem: element for the velocity functionspace\n",
    "\n",
    "    Returns:\n",
    "        V: functionspace for the velocity\n",
    "        u: velocity coeficients\n",
    "    \"\"\"\n",
    "    if domain == \"square\":\n",
    "        msh = square_mesh(n)\n",
    "    elif domain == \"circle\":\n",
    "        msh, cell_tags, facet_tags = circle_mesh(n)\n",
    "\n",
    "\n",
    "    # Functionspace\n",
    "    V = functionspace(msh, (elem, 1))\n",
    "\n",
    "    # No-slip boundary conditions\n",
    "    if domain == \"square\":\n",
    "        facets = locate_entities_boundary(msh, 1, noslip_boundary)\n",
    "    elif domain == \"circle\":\n",
    "        facets = facet_tags.indices[facet_tags.values == 12]\n",
    "\n",
    "    noslip = Function(V) # V = 0 \n",
    "\n",
    "    dofs = locate_dofs_topological(V, 1, facets)\n",
    "    bc = dirichletbc(noslip, dofs)\n",
    "\n",
    "\n",
    "    # Variational formulation\n",
    "    u = TrialFunction(V)\n",
    "    v = TestFunction(V)\n",
    "\n",
    "    f = Constant(msh, ScalarType(c))\n",
    "    a = form(inner(grad(u), grad(v)) *dx) # Bilinear form\n",
    "    L = form(inner(f, v) * dx) # Linear form\n",
    "\n",
    "\n",
    "    # Linear problem\n",
    "    A = assemble_matrix(a, bcs=[bc])\n",
    "    A.assemble()\n",
    "    b = assemble_vector(L)\n",
    "    apply_lifting(b, [a], bcs=[[bc]]) # Adjusts b to keep the equality Ax=b after applying bcs to A\n",
    "\n",
    "    # Sincronization of the ghost values for parallel computing\n",
    "    b.ghostUpdate(addv=PETSc.InsertMode.ADD, mode=PETSc.ScatterMode.REVERSE) \n",
    "    bc.set(b) # Apply boundary condition to b\n",
    "\n",
    "\n",
    "    # PETSc Solver (Krylov Subspace)\n",
    "    ksp = PETSc.KSP().create(msh.comm) \n",
    "    ksp.setOperators(A) # Set matrix for the system\n",
    "    ksp.setType(\"cg\") # ksp solver ; gmres, cr, chebyshev, ... ; help(ksp.Type)\n",
    "\n",
    "    pc = ksp.getPC() # Preconditioner\n",
    "    pc.setType(\"lu\") # LU, ILU, QR, SOR, GALERKIN, ... ;  help(pc.Type)\n",
    "\n",
    "    pc.setFactorSolverType(\"superlu_dist\") # Solver type to calculate preconditioner/factorization\n",
    "    u = Function(V)\n",
    "    ksp.solve(b, u.x.petsc_vec)\n",
    "\n",
    "    return V, u"
   ]
  },
  {
   "cell_type": "markdown",
   "id": "dfdbf707",
   "metadata": {},
   "source": [
    "### _Cálculo de soluciones_"
   ]
  },
  {
   "cell_type": "code",
   "execution_count": 6,
   "id": "1a4c41d5",
   "metadata": {},
   "outputs": [
    {
     "name": "stdout",
     "output_type": "stream",
     "text": [
      "Calulating solution for n = 16...\n",
      "Solved!\n",
      "Calulating solution for n = 32...\n",
      "Solved!\n",
      "Calulating solution for n = 64...\n",
      "Solved!\n",
      "Calulating solution for n = 128...\n",
      "Solved!\n",
      "Calulating solution for n = 256...\n",
      "Solved!\n",
      "Calulating solution for n = 512...\n",
      "Solved!\n"
     ]
    }
   ],
   "source": [
    "domain = \"square\"\n",
    "if domain == \"square\":\n",
    "    total = 6\n",
    "    sizes = [2**(i+4) for i in range(total)]\n",
    "elif domain == \"circle\":\n",
    "    total = 5\n",
    "    sizes = [2**(i+1) for i in range(total)]\n",
    "function_spaces = []\n",
    "velocities = []\n",
    "c = 5\n",
    "\n",
    "for n in sizes:\n",
    "    print(f\"Calulating solution for n = {n}...\")\n",
    "    V, u = solution(n, domain, c)\n",
    "    function_spaces.append(V)\n",
    "    velocities.append(u)\n",
    "    print(\"Solved!\")"
   ]
  },
  {
   "cell_type": "markdown",
   "id": "c404045f",
   "metadata": {},
   "source": [
    "## **_Convergence Rate_**"
   ]
  },
  {
   "cell_type": "markdown",
   "id": "cc6f081d",
   "metadata": {},
   "source": [
    "### _Error norm function_"
   ]
  },
  {
   "cell_type": "code",
   "execution_count": 7,
   "id": "95906074",
   "metadata": {},
   "outputs": [],
   "source": [
    "def norm(norm_type: str ,u_ex: dolfinx.fem.function.Function, V_ex: dolfinx.fem.function.FunctionSpace, u_h :dolfinx.fem.function.Function, V_h: dolfinx.fem.function.FunctionSpace, cells_fine: np.ndarray):\n",
    "    \"\"\"\n",
    "    Calculates the error norm between a \"exact\" solution and a approximated solution to a \n",
    "    PDE calculated through the FEM given the solutions and their respective functions spaces\n",
    "    \"\"\"\n",
    "    \n",
    "    # ----------------------------- mesh interpolation ----------------------------- #\n",
    "    # Interpolamos la solución aproximada sobre la malla fina\n",
    "    u_h_coarse_to_fine = Function(V_ex)  # Nueva función en la malla fina\n",
    "    interpolation_data = create_interpolation_data(V_ex, V_h, cells_fine)  # Datos para interpolar entre espacios no coincidentes\n",
    "    u_h_coarse_to_fine.interpolate_nonmatching(u_h, cells_fine, interpolation_data=interpolation_data)  # Interpolación\n",
    "    u_h_coarse_to_fine.x.scatter_forward()  # Sincroniza datos entre procesos\n",
    "    # ------------------------------------------------------------------------------ #\n",
    "\n",
    "\n",
    "    # ------------------------------ Error ------------------------------ #\n",
    "    e = u_ex - u_h_coarse_to_fine\n",
    "            \n",
    "    if norm_type == \"L2\":\n",
    "        error = form((inner(e,e))* dx) # Formamos la integral\n",
    "        error_local = assemble_scalar(error) # calculamos la integral\n",
    "        return np.sqrt(V_ex.mesh.comm.allreduce(error_local, op=MPI.SUM)) # Sumamos los errores en cada punto\n",
    "\n",
    "    elif norm_type == \"H1\":\n",
    "        error = form((inner(e,e) + inner(grad(e),grad(e)))* dx) # Formamos la integral\n",
    "        error_local = assemble_scalar(error) # calculamos la integral\n",
    "        return np.sqrt(V_ex.mesh.comm.allreduce(error_local, op=MPI.SUM)) # Sumamos los errores en cada punto\n",
    "    # ------------------------------------------------------------------- #"
   ]
  },
  {
   "cell_type": "markdown",
   "id": "a0a97b58",
   "metadata": {},
   "source": [
    "Exact solution cells information"
   ]
  },
  {
   "cell_type": "code",
   "execution_count": 8,
   "id": "efc9ba2e",
   "metadata": {},
   "outputs": [],
   "source": [
    "u_ex = velocities[-1]\n",
    "V_ex = function_spaces[-1]\n",
    "\n",
    "cells_fine_map = V_ex.mesh.topology.index_map(V_ex.mesh.topology.dim)\n",
    "num_cells_on_proc_fine = cells_fine_map.size_local + cells_fine_map.num_ghosts\n",
    "cells_fine = np.arange(num_cells_on_proc_fine, dtype=np.int32)"
   ]
  },
  {
   "cell_type": "markdown",
   "id": "b8146cd1",
   "metadata": {},
   "source": [
    "### _L^2_"
   ]
  },
  {
   "cell_type": "code",
   "execution_count": 9,
   "id": "aa0ea947",
   "metadata": {},
   "outputs": [],
   "source": [
    "norm_type = \"L2\"\n",
    "total = len(sizes) - 1\n",
    "h = np.array([1/n for n in sizes][:total])\n",
    "error_L2 = np.array([0. for i in range(total)])\n",
    "\n",
    "for i in range(total):\n",
    "    u_h = velocities[i]\n",
    "    V_h = function_spaces[i]\n",
    "    error_L2[i] = norm(norm_type, u_ex, V_ex, u_h, V_h, cells_fine)"
   ]
  },
  {
   "cell_type": "code",
   "execution_count": 10,
   "id": "1fd2a04f",
   "metadata": {},
   "outputs": [],
   "source": [
    "x_ref = 1/h[:total]\n",
    "y0 = error_L2[-2]\n",
    "x0 = x_ref[-2]\n",
    "asintota = y0 * (x_ref/x0)**(-2) "
   ]
  },
  {
   "cell_type": "code",
   "execution_count": null,
   "id": "573b18ac",
   "metadata": {},
   "outputs": [
    {
     "data": {
      "image/png": "[encoded data removed]",
      "text/plain": [
       "<Figure size 640x480 with 1 Axes>"
      ]
     },
     "metadata": {},
     "output_type": "display_data"
    }
   ],
   "source": [
    "import matplotlib.pyplot as plt\n",
    "\n",
    "plt.loglog(1/h[:total], error_L2, \"o-\", label= \"||u_ex - u_h||\")\n",
    "plt.loglog(x_ref, asintota, \"r*--\", label=\"O(h^2)\")\n",
    "plt.legend(loc=\"upper right\")\n",
    "plt.title(f\"{norm_type} Error for u in a {domain} domain with P1 elements\")\n",
    "plt.xlabel(\"1/h\")\n",
    "plt.ylabel(\"Error\")\n",
    "plt.show()"
   ]
  },
  {
   "cell_type": "code",
   "execution_count": 12,
   "id": "5088f616",
   "metadata": {},
   "outputs": [
    {
     "name": "stdout",
     "output_type": "stream",
     "text": [
      "Tasa de convergencia en la norma L2 = 2.2842150490788655\n"
     ]
    }
   ],
   "source": [
    "Slope, intercept = np.polyfit(np.log(1/h[total-2:total]), np.log(error_L2[total-2:]), 1)\n",
    "print(f\"Tasa de convergencia en la norma {norm_type} = {-Slope}\")"
   ]
  },
  {
   "cell_type": "markdown",
   "id": "d4b1a110",
   "metadata": {},
   "source": [
    "### _H1_"
   ]
  },
  {
   "cell_type": "code",
   "execution_count": 13,
   "id": "a2ec02e5",
   "metadata": {},
   "outputs": [],
   "source": [
    "norm_type = \"H1\"\n",
    "total = len(sizes) - 1\n",
    "h = np.array([1/n for n in sizes][:total])\n",
    "error_H1 = np.array([0. for i in range(total)])\n",
    "\n",
    "for i in range(total):\n",
    "    u_h = velocities[i]\n",
    "    V_h = function_spaces[i]\n",
    "    error_H1[i] = norm(norm_type, u_ex, V_ex, u_h, V_h, cells_fine)"
   ]
  },
  {
   "cell_type": "code",
   "execution_count": 14,
   "id": "68620db3",
   "metadata": {},
   "outputs": [],
   "source": [
    "x_ref = 1/h[:total]\n",
    "y0 = error_H1[-2]\n",
    "x0 = x_ref[-2]\n",
    "asintota = y0 * (x_ref/x0)**(-1) "
   ]
  },
  {
   "cell_type": "code",
   "execution_count": null,
   "id": "759abe9d",
   "metadata": {},
   "outputs": [
    {
     "data": {
      "image/png": "[encoded data removed]",
      "text/plain": [
       "<Figure size 640x480 with 1 Axes>"
      ]
     },
     "metadata": {},
     "output_type": "display_data"
    }
   ],
   "source": [
    "import matplotlib.pyplot as plt\n",
    "\n",
    "plt.loglog(1/h[:total], error_H1, \"o-\", label= \"||u_ex - u_h||\")\n",
    "plt.loglog(x_ref, asintota, \"r*--\", label=\"O(h)\")\n",
    "plt.legend(loc=\"upper right\")\n",
    "plt.title(f\"{norm_type} Error for u in a {domain} domain with P1 elements\")\n",
    "plt.xlabel(\"1/h\")\n",
    "plt.ylabel(\"Error\")\n",
    "plt.show()"
   ]
  },
  {
   "cell_type": "code",
   "execution_count": null,
   "id": "808d649a",
   "metadata": {},
   "outputs": [
    {
     "name": "stdout",
     "output_type": "stream",
     "text": [
      "Tasa de convergencia en la norma H1 = 1.1608351717660603\n"
     ]
    }
   ],
   "source": [
    "Slope, intercept = np.polyfit(np.log(1/h[total-2:total]), np.log(error_H1[total-2:]), 1)\n",
    "print(f\"Tasa de convergencia en la norma {norm_type} = {-Slope}\")"
   ]
  }
 ],
 "metadata": {
  "kernelspec": {
   "display_name": "fenicsx-env",
   "language": "python",
   "name": "python3"
  },
  "language_info": {
   "codemirror_mode": {
    "name": "ipython",
    "version": 3
   },
   "file_extension": ".py",
   "mimetype": "text/x-python",
   "name": "python",
   "nbconvert_exporter": "python",
   "pygments_lexer": "ipython3",
   "version": "3.13.2"
  }
 },
 "nbformat": 4,
 "nbformat_minor": 5
}
